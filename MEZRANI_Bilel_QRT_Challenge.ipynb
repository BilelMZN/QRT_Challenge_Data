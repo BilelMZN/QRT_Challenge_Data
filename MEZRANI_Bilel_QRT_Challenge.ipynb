{
 "cells": [
  {
   "cell_type": "code",
   "execution_count": 100,
   "metadata": {},
   "outputs": [],
   "source": [
    "import pandas as pd\n",
    "import numpy as np\n",
    "import seaborn as sns\n",
    "import tqdm as tqdm\n",
    "import matplotlib.pyplot as plt\n",
    "sns.set(style=\"darkgrid\")"
   ]
  },
  {
   "cell_type": "markdown",
   "metadata": {},
   "source": [
    "# Importation des données"
   ]
  },
  {
   "cell_type": "code",
   "execution_count": 101,
   "metadata": {},
   "outputs": [],
   "source": [
    "x_train = pd.read_csv('x_train.csv')\n",
    "y_train = pd.read_csv('y_train.csv')\n",
    "x_test = pd.read_csv('x_test.csv')"
   ]
  },
  {
   "cell_type": "code",
   "execution_count": 102,
   "metadata": {},
   "outputs": [
    {
     "data": {
      "text/html": [
       "<div>\n",
       "<style scoped>\n",
       "    .dataframe tbody tr th:only-of-type {\n",
       "        vertical-align: middle;\n",
       "    }\n",
       "\n",
       "    .dataframe tbody tr th {\n",
       "        vertical-align: top;\n",
       "    }\n",
       "\n",
       "    .dataframe thead th {\n",
       "        text-align: right;\n",
       "    }\n",
       "</style>\n",
       "<table border=\"1\" class=\"dataframe\">\n",
       "  <thead>\n",
       "    <tr style=\"text-align: right;\">\n",
       "      <th></th>\n",
       "      <th>ID</th>\n",
       "      <th>DATE</th>\n",
       "      <th>STOCK</th>\n",
       "      <th>INDUSTRY</th>\n",
       "      <th>INDUSTRY_GROUP</th>\n",
       "      <th>SECTOR</th>\n",
       "      <th>SUB_INDUSTRY</th>\n",
       "      <th>RET_1</th>\n",
       "      <th>VOLUME_1</th>\n",
       "      <th>RET_2</th>\n",
       "      <th>...</th>\n",
       "      <th>RET_16</th>\n",
       "      <th>VOLUME_16</th>\n",
       "      <th>RET_17</th>\n",
       "      <th>VOLUME_17</th>\n",
       "      <th>RET_18</th>\n",
       "      <th>VOLUME_18</th>\n",
       "      <th>RET_19</th>\n",
       "      <th>VOLUME_19</th>\n",
       "      <th>RET_20</th>\n",
       "      <th>VOLUME_20</th>\n",
       "    </tr>\n",
       "  </thead>\n",
       "  <tbody>\n",
       "    <tr>\n",
       "      <th>0</th>\n",
       "      <td>0</td>\n",
       "      <td>0</td>\n",
       "      <td>2</td>\n",
       "      <td>18</td>\n",
       "      <td>5</td>\n",
       "      <td>3</td>\n",
       "      <td>44</td>\n",
       "      <td>-0.015748</td>\n",
       "      <td>0.147931</td>\n",
       "      <td>-0.015504</td>\n",
       "      <td>...</td>\n",
       "      <td>0.059459</td>\n",
       "      <td>0.630899</td>\n",
       "      <td>0.003254</td>\n",
       "      <td>-0.379412</td>\n",
       "      <td>0.008752</td>\n",
       "      <td>-0.110597</td>\n",
       "      <td>-0.012959</td>\n",
       "      <td>0.174521</td>\n",
       "      <td>-0.002155</td>\n",
       "      <td>-0.000937</td>\n",
       "    </tr>\n",
       "    <tr>\n",
       "      <th>1</th>\n",
       "      <td>1</td>\n",
       "      <td>0</td>\n",
       "      <td>3</td>\n",
       "      <td>43</td>\n",
       "      <td>15</td>\n",
       "      <td>6</td>\n",
       "      <td>104</td>\n",
       "      <td>0.003984</td>\n",
       "      <td>NaN</td>\n",
       "      <td>-0.090580</td>\n",
       "      <td>...</td>\n",
       "      <td>0.015413</td>\n",
       "      <td>NaN</td>\n",
       "      <td>0.003774</td>\n",
       "      <td>NaN</td>\n",
       "      <td>-0.018518</td>\n",
       "      <td>NaN</td>\n",
       "      <td>-0.028777</td>\n",
       "      <td>NaN</td>\n",
       "      <td>-0.034722</td>\n",
       "      <td>NaN</td>\n",
       "    </tr>\n",
       "    <tr>\n",
       "      <th>2</th>\n",
       "      <td>2</td>\n",
       "      <td>0</td>\n",
       "      <td>4</td>\n",
       "      <td>57</td>\n",
       "      <td>20</td>\n",
       "      <td>8</td>\n",
       "      <td>142</td>\n",
       "      <td>0.000440</td>\n",
       "      <td>-0.096282</td>\n",
       "      <td>-0.058896</td>\n",
       "      <td>...</td>\n",
       "      <td>0.008964</td>\n",
       "      <td>-0.010336</td>\n",
       "      <td>-0.017612</td>\n",
       "      <td>-0.354333</td>\n",
       "      <td>-0.006562</td>\n",
       "      <td>-0.519391</td>\n",
       "      <td>-0.012101</td>\n",
       "      <td>-0.356157</td>\n",
       "      <td>-0.006867</td>\n",
       "      <td>-0.308868</td>\n",
       "    </tr>\n",
       "    <tr>\n",
       "      <th>3</th>\n",
       "      <td>3</td>\n",
       "      <td>0</td>\n",
       "      <td>8</td>\n",
       "      <td>1</td>\n",
       "      <td>1</td>\n",
       "      <td>1</td>\n",
       "      <td>2</td>\n",
       "      <td>0.031298</td>\n",
       "      <td>-0.429540</td>\n",
       "      <td>0.007756</td>\n",
       "      <td>...</td>\n",
       "      <td>-0.031769</td>\n",
       "      <td>0.012105</td>\n",
       "      <td>0.033824</td>\n",
       "      <td>-0.290178</td>\n",
       "      <td>-0.001468</td>\n",
       "      <td>-0.663834</td>\n",
       "      <td>-0.013520</td>\n",
       "      <td>-0.562126</td>\n",
       "      <td>-0.036745</td>\n",
       "      <td>-0.631458</td>\n",
       "    </tr>\n",
       "    <tr>\n",
       "      <th>4</th>\n",
       "      <td>4</td>\n",
       "      <td>0</td>\n",
       "      <td>14</td>\n",
       "      <td>36</td>\n",
       "      <td>12</td>\n",
       "      <td>5</td>\n",
       "      <td>92</td>\n",
       "      <td>0.027273</td>\n",
       "      <td>-0.847155</td>\n",
       "      <td>-0.039302</td>\n",
       "      <td>...</td>\n",
       "      <td>-0.038461</td>\n",
       "      <td>-0.277083</td>\n",
       "      <td>-0.012659</td>\n",
       "      <td>0.139086</td>\n",
       "      <td>0.004237</td>\n",
       "      <td>-0.017547</td>\n",
       "      <td>0.004256</td>\n",
       "      <td>0.579510</td>\n",
       "      <td>-0.040817</td>\n",
       "      <td>0.802806</td>\n",
       "    </tr>\n",
       "  </tbody>\n",
       "</table>\n",
       "<p>5 rows × 47 columns</p>\n",
       "</div>"
      ],
      "text/plain": [
       "   ID  DATE  STOCK  INDUSTRY  INDUSTRY_GROUP  SECTOR  SUB_INDUSTRY     RET_1  \\\n",
       "0   0     0      2        18               5       3            44 -0.015748   \n",
       "1   1     0      3        43              15       6           104  0.003984   \n",
       "2   2     0      4        57              20       8           142  0.000440   \n",
       "3   3     0      8         1               1       1             2  0.031298   \n",
       "4   4     0     14        36              12       5            92  0.027273   \n",
       "\n",
       "   VOLUME_1     RET_2  ...    RET_16  VOLUME_16    RET_17  VOLUME_17  \\\n",
       "0  0.147931 -0.015504  ...  0.059459   0.630899  0.003254  -0.379412   \n",
       "1       NaN -0.090580  ...  0.015413        NaN  0.003774        NaN   \n",
       "2 -0.096282 -0.058896  ...  0.008964  -0.010336 -0.017612  -0.354333   \n",
       "3 -0.429540  0.007756  ... -0.031769   0.012105  0.033824  -0.290178   \n",
       "4 -0.847155 -0.039302  ... -0.038461  -0.277083 -0.012659   0.139086   \n",
       "\n",
       "     RET_18  VOLUME_18    RET_19  VOLUME_19    RET_20  VOLUME_20  \n",
       "0  0.008752  -0.110597 -0.012959   0.174521 -0.002155  -0.000937  \n",
       "1 -0.018518        NaN -0.028777        NaN -0.034722        NaN  \n",
       "2 -0.006562  -0.519391 -0.012101  -0.356157 -0.006867  -0.308868  \n",
       "3 -0.001468  -0.663834 -0.013520  -0.562126 -0.036745  -0.631458  \n",
       "4  0.004237  -0.017547  0.004256   0.579510 -0.040817   0.802806  \n",
       "\n",
       "[5 rows x 47 columns]"
      ]
     },
     "execution_count": 102,
     "metadata": {},
     "output_type": "execute_result"
    }
   ],
   "source": [
    "x_train.head()"
   ]
  },
  {
   "cell_type": "markdown",
   "metadata": {},
   "source": [
    "# Observation des données"
   ]
  },
  {
   "cell_type": "code",
   "execution_count": 103,
   "metadata": {},
   "outputs": [
    {
     "data": {
      "image/png": "[encoded data removed]",
      "text/plain": [
       "<Figure size 432x288 with 1 Axes>"
      ]
     },
     "metadata": {},
     "output_type": "display_data"
    },
    {
     "name": "stdout",
     "output_type": "stream",
     "text": [
      "There is 367 new stocks in the test dataset which represents 6.86% of the stocks present in x_train.\n"
     ]
    }
   ],
   "source": [
    "data = pd.DataFrame(data=[[len(x_train.STOCK.unique()), 'x_train'],\n",
    "                          [len(x_test.STOCK.unique()), 'x_test']],\n",
    "                    columns=['unique stocks', 'dataset'])\n",
    "sns.barplot(x='dataset', y='unique stocks', data=data)\n",
    "plt.title(\"Unique stocks for x_train and x_test\")\n",
    "plt.show()\n",
    "\n",
    "### compute the number of new stocks in the test dataset\n",
    "unique_stock_train = x_train.STOCK.unique()\n",
    "is_test_stock_in_train = [stock in unique_stock_train for stock in x_test.STOCK.unique()]\n",
    "new_stock_test = len(is_test_stock_in_train) - sum(is_test_stock_in_train)\n",
    "print(\"There is %d new stocks in the test dataset which represents %.2f%% of the stocks present in x_train.\"\n",
    "      %(new_stock_test, (new_stock_test / len(x_train.STOCK.unique())) * 100))"
   ]
  },
  {
   "cell_type": "markdown",
   "metadata": {},
   "source": [
    "On remarque qu'il y a des nouveaux stocks dans l'échantillon test mais cela reste raisonnable."
   ]
  },
  {
   "cell_type": "code",
   "execution_count": 104,
   "metadata": {},
   "outputs": [
    {
     "data": {
      "image/png": "[encoded data removed]",
      "text/plain": [
       "<Figure size 1080x360 with 1 Axes>"
      ]
     },
     "metadata": {},
     "output_type": "display_data"
    }
   ],
   "source": [
    "plt.figure(figsize=(15, 5))\n",
    "(x_train.isna().sum() / len(x_train)).plot(label='train', use_index=False)\n",
    "(x_test.isna().sum() / len(x_test)).plot(label='test', use_index=False)\n",
    "plt.xticks(np.arange(46), x_train.columns, rotation=90)\n",
    "plt.ylabel('frequency')\n",
    "plt.title(\"Pourcentage of NaN in different classes/datasets\")\n",
    "plt.legend()\n",
    "plt.show()"
   ]
  },
  {
   "cell_type": "markdown",
   "metadata": {},
   "source": [
    "On remarque que les valeurs manquantes sont surtout au niveau des features 'Volume' dans les deux échantillons."
   ]
  },
  {
   "cell_type": "markdown",
   "metadata": {},
   "source": [
    "# Feature Engineering"
   ]
  },
  {
   "cell_type": "markdown",
   "metadata": {},
   "source": [
    "On va maintenant ajouter des variables qui peuvent améliorer l'analyse des données. Ces variables introduites viennent notamment de <html> https://www.sciencedirect.com/science/article/pii/S2405844019359705 qui est une étude sur les return de stocks en utilisant les forêts aléatoires."
   ]
  },
  {
   "cell_type": "code",
   "execution_count": 105,
   "metadata": {},
   "outputs": [
    {
     "data": {
      "text/html": [
       "<div>\n",
       "<style scoped>\n",
       "    .dataframe tbody tr th:only-of-type {\n",
       "        vertical-align: middle;\n",
       "    }\n",
       "\n",
       "    .dataframe tbody tr th {\n",
       "        vertical-align: top;\n",
       "    }\n",
       "\n",
       "    .dataframe thead th {\n",
       "        text-align: right;\n",
       "    }\n",
       "</style>\n",
       "<table border=\"1\" class=\"dataframe\">\n",
       "  <thead>\n",
       "    <tr style=\"text-align: right;\">\n",
       "      <th></th>\n",
       "      <th>AVG_RET_1</th>\n",
       "      <th>AVG_RET_2</th>\n",
       "    </tr>\n",
       "  </thead>\n",
       "  <tbody>\n",
       "    <tr>\n",
       "      <th>0</th>\n",
       "      <td>-0.003694</td>\n",
       "      <td>0.059023</td>\n",
       "    </tr>\n",
       "    <tr>\n",
       "      <th>1</th>\n",
       "      <td>-0.026274</td>\n",
       "      <td>0.038943</td>\n",
       "    </tr>\n",
       "    <tr>\n",
       "      <th>2</th>\n",
       "      <td>-0.006658</td>\n",
       "      <td>0.010191</td>\n",
       "    </tr>\n",
       "    <tr>\n",
       "      <th>3</th>\n",
       "      <td>0.003658</td>\n",
       "      <td>-0.011622</td>\n",
       "    </tr>\n",
       "    <tr>\n",
       "      <th>4</th>\n",
       "      <td>0.002059</td>\n",
       "      <td>-0.002470</td>\n",
       "    </tr>\n",
       "  </tbody>\n",
       "</table>\n",
       "</div>"
      ],
      "text/plain": [
       "   AVG_RET_1  AVG_RET_2\n",
       "0  -0.003694   0.059023\n",
       "1  -0.026274   0.038943\n",
       "2  -0.006658   0.010191\n",
       "3   0.003658  -0.011622\n",
       "4   0.002059  -0.002470"
      ]
     },
     "execution_count": 105,
     "metadata": {},
     "output_type": "execute_result"
    }
   ],
   "source": [
    "dic = {}\n",
    "for week in range(2):\n",
    "    features = []\n",
    "    for day in range(1, 6):\n",
    "        features.append('RET_' + str(week * 5 + day))\n",
    "    dic['AVG_RET_' + str(week + 1)] = x_train[features].mean(axis=1)\n",
    "technical_features = pd.DataFrame(dic)\n",
    "pd.DataFrame(dic).head()"
   ]
  },
  {
   "cell_type": "code",
   "execution_count": 106,
   "metadata": {},
   "outputs": [
    {
     "data": {
      "text/html": [
       "<div>\n",
       "<style scoped>\n",
       "    .dataframe tbody tr th:only-of-type {\n",
       "        vertical-align: middle;\n",
       "    }\n",
       "\n",
       "    .dataframe tbody tr th {\n",
       "        vertical-align: top;\n",
       "    }\n",
       "\n",
       "    .dataframe thead th {\n",
       "        text-align: right;\n",
       "    }\n",
       "</style>\n",
       "<table border=\"1\" class=\"dataframe\">\n",
       "  <thead>\n",
       "    <tr style=\"text-align: right;\">\n",
       "      <th></th>\n",
       "      <th>AVG_RET_1</th>\n",
       "      <th>AVG_RET_2</th>\n",
       "    </tr>\n",
       "  </thead>\n",
       "  <tbody>\n",
       "    <tr>\n",
       "      <th>0</th>\n",
       "      <td>0.007166</td>\n",
       "      <td>-0.000524</td>\n",
       "    </tr>\n",
       "    <tr>\n",
       "      <th>1</th>\n",
       "      <td>-0.002511</td>\n",
       "      <td>0.006814</td>\n",
       "    </tr>\n",
       "    <tr>\n",
       "      <th>2</th>\n",
       "      <td>-0.015665</td>\n",
       "      <td>0.005714</td>\n",
       "    </tr>\n",
       "    <tr>\n",
       "      <th>3</th>\n",
       "      <td>0.004168</td>\n",
       "      <td>0.010717</td>\n",
       "    </tr>\n",
       "    <tr>\n",
       "      <th>4</th>\n",
       "      <td>-0.001829</td>\n",
       "      <td>0.007099</td>\n",
       "    </tr>\n",
       "  </tbody>\n",
       "</table>\n",
       "</div>"
      ],
      "text/plain": [
       "   AVG_RET_1  AVG_RET_2\n",
       "0   0.007166  -0.000524\n",
       "1  -0.002511   0.006814\n",
       "2  -0.015665   0.005714\n",
       "3   0.004168   0.010717\n",
       "4  -0.001829   0.007099"
      ]
     },
     "execution_count": 106,
     "metadata": {},
     "output_type": "execute_result"
    }
   ],
   "source": [
    "dic = {}\n",
    "for week in range(2):\n",
    "    features = []\n",
    "    for day in range(1, 6):\n",
    "        features.append('RET_' + str(week * 5 + day))\n",
    "    dic['AVG_RET_' + str(week + 1)] = x_test[features].mean(axis=1)\n",
    "technical_features1 = pd.DataFrame(dic)\n",
    "pd.DataFrame(dic).head()"
   ]
  },
  {
   "cell_type": "markdown",
   "metadata": {},
   "source": [
    "### Refers to a rate of acceleration of a stock’s volume and can be used to help identify trend lines of volume"
   ]
  },
  {
   "cell_type": "code",
   "execution_count": 107,
   "metadata": {},
   "outputs": [
    {
     "data": {
      "text/html": [
       "<div>\n",
       "<style scoped>\n",
       "    .dataframe tbody tr th:only-of-type {\n",
       "        vertical-align: middle;\n",
       "    }\n",
       "\n",
       "    .dataframe tbody tr th {\n",
       "        vertical-align: top;\n",
       "    }\n",
       "\n",
       "    .dataframe thead th {\n",
       "        text-align: right;\n",
       "    }\n",
       "</style>\n",
       "<table border=\"1\" class=\"dataframe\">\n",
       "  <thead>\n",
       "    <tr style=\"text-align: right;\">\n",
       "      <th></th>\n",
       "      <th>VOL_1/VOL_2</th>\n",
       "      <th>VOL_1/VOL_3</th>\n",
       "      <th>VOL_1/VOL_4</th>\n",
       "    </tr>\n",
       "  </thead>\n",
       "  <tbody>\n",
       "    <tr>\n",
       "      <th>0</th>\n",
       "      <td>-0.154314</td>\n",
       "      <td>-0.331097</td>\n",
       "      <td>-0.426286</td>\n",
       "    </tr>\n",
       "    <tr>\n",
       "      <th>1</th>\n",
       "      <td>NaN</td>\n",
       "      <td>NaN</td>\n",
       "      <td>NaN</td>\n",
       "    </tr>\n",
       "    <tr>\n",
       "      <th>2</th>\n",
       "      <td>0.482402</td>\n",
       "      <td>0.426954</td>\n",
       "      <td>0.358949</td>\n",
       "    </tr>\n",
       "    <tr>\n",
       "      <th>3</th>\n",
       "      <td>1.399066</td>\n",
       "      <td>1.034698</td>\n",
       "      <td>1.106327</td>\n",
       "    </tr>\n",
       "    <tr>\n",
       "      <th>4</th>\n",
       "      <td>1.266714</td>\n",
       "      <td>-1.510818</td>\n",
       "      <td>-1.810634</td>\n",
       "    </tr>\n",
       "  </tbody>\n",
       "</table>\n",
       "</div>"
      ],
      "text/plain": [
       "   VOL_1/VOL_2  VOL_1/VOL_3  VOL_1/VOL_4\n",
       "0    -0.154314    -0.331097    -0.426286\n",
       "1          NaN          NaN          NaN\n",
       "2     0.482402     0.426954     0.358949\n",
       "3     1.399066     1.034698     1.106327\n",
       "4     1.266714    -1.510818    -1.810634"
      ]
     },
     "execution_count": 107,
     "metadata": {},
     "output_type": "execute_result"
    }
   ],
   "source": [
    "dic = {}\n",
    "features = []\n",
    "for week in range(4):\n",
    "    for day in range(1, 6):\n",
    "        features.append('VOLUME_' + str(week * 5 + day))\n",
    "    dic['VOL_' + str(week + 1)] = x_train[features].mean(axis=1)\n",
    "res = {}\n",
    "res['VOL_1/VOL_2'] = dic['VOL_1'] / dic['VOL_2']\n",
    "res['VOL_1/VOL_3'] = dic['VOL_1'] / dic['VOL_3']\n",
    "res['VOL_1/VOL_4'] = dic['VOL_1'] / dic['VOL_4']\n",
    "technical_features = pd.concat((technical_features, pd.DataFrame(res)), axis=1)\n",
    "pd.DataFrame(res).head()"
   ]
  },
  {
   "cell_type": "code",
   "execution_count": 108,
   "metadata": {},
   "outputs": [
    {
     "data": {
      "text/html": [
       "<div>\n",
       "<style scoped>\n",
       "    .dataframe tbody tr th:only-of-type {\n",
       "        vertical-align: middle;\n",
       "    }\n",
       "\n",
       "    .dataframe tbody tr th {\n",
       "        vertical-align: top;\n",
       "    }\n",
       "\n",
       "    .dataframe thead th {\n",
       "        text-align: right;\n",
       "    }\n",
       "</style>\n",
       "<table border=\"1\" class=\"dataframe\">\n",
       "  <thead>\n",
       "    <tr style=\"text-align: right;\">\n",
       "      <th></th>\n",
       "      <th>VOL_1/VOL_2</th>\n",
       "      <th>VOL_1/VOL_3</th>\n",
       "      <th>VOL_1/VOL_4</th>\n",
       "    </tr>\n",
       "  </thead>\n",
       "  <tbody>\n",
       "    <tr>\n",
       "      <th>0</th>\n",
       "      <td>-0.005655</td>\n",
       "      <td>-0.002912</td>\n",
       "      <td>-0.002834</td>\n",
       "    </tr>\n",
       "    <tr>\n",
       "      <th>1</th>\n",
       "      <td>1.190858</td>\n",
       "      <td>1.796281</td>\n",
       "      <td>1.799375</td>\n",
       "    </tr>\n",
       "    <tr>\n",
       "      <th>2</th>\n",
       "      <td>1.545200</td>\n",
       "      <td>2.237034</td>\n",
       "      <td>4.419036</td>\n",
       "    </tr>\n",
       "    <tr>\n",
       "      <th>3</th>\n",
       "      <td>-0.595983</td>\n",
       "      <td>0.075749</td>\n",
       "      <td>0.112910</td>\n",
       "    </tr>\n",
       "    <tr>\n",
       "      <th>4</th>\n",
       "      <td>0.664994</td>\n",
       "      <td>0.617317</td>\n",
       "      <td>0.816838</td>\n",
       "    </tr>\n",
       "  </tbody>\n",
       "</table>\n",
       "</div>"
      ],
      "text/plain": [
       "   VOL_1/VOL_2  VOL_1/VOL_3  VOL_1/VOL_4\n",
       "0    -0.005655    -0.002912    -0.002834\n",
       "1     1.190858     1.796281     1.799375\n",
       "2     1.545200     2.237034     4.419036\n",
       "3    -0.595983     0.075749     0.112910\n",
       "4     0.664994     0.617317     0.816838"
      ]
     },
     "execution_count": 108,
     "metadata": {},
     "output_type": "execute_result"
    }
   ],
   "source": [
    "dic = {}\n",
    "features = []\n",
    "for week in range(4):\n",
    "    for day in range(1, 6):\n",
    "        features.append('VOLUME_' + str(week * 5 + day))\n",
    "    dic['VOL_' + str(week + 1)] = x_test[features].mean(axis=1)\n",
    "res = {}\n",
    "res['VOL_1/VOL_2'] = dic['VOL_1'] / dic['VOL_2']\n",
    "res['VOL_1/VOL_3'] = dic['VOL_1'] / dic['VOL_3']\n",
    "res['VOL_1/VOL_4'] = dic['VOL_1'] / dic['VOL_4']\n",
    "technical_features1 = pd.concat((technical_features1, pd.DataFrame(res)), axis=1)\n",
    "pd.DataFrame(res).head()"
   ]
  },
  {
   "cell_type": "markdown",
   "metadata": {},
   "source": [
    "### Refers to the volatility over the past m trading days as calculated by the standard deviation of daily returns"
   ]
  },
  {
   "cell_type": "code",
   "execution_count": 109,
   "metadata": {},
   "outputs": [
    {
     "data": {
      "text/html": [
       "<div>\n",
       "<style scoped>\n",
       "    .dataframe tbody tr th:only-of-type {\n",
       "        vertical-align: middle;\n",
       "    }\n",
       "\n",
       "    .dataframe tbody tr th {\n",
       "        vertical-align: top;\n",
       "    }\n",
       "\n",
       "    .dataframe thead th {\n",
       "        text-align: right;\n",
       "    }\n",
       "</style>\n",
       "<table border=\"1\" class=\"dataframe\">\n",
       "  <thead>\n",
       "    <tr style=\"text-align: right;\">\n",
       "      <th></th>\n",
       "      <th>STD_RET_1</th>\n",
       "      <th>STD_RET_2</th>\n",
       "      <th>STD_RET_3</th>\n",
       "      <th>STD_RET_4</th>\n",
       "    </tr>\n",
       "  </thead>\n",
       "  <tbody>\n",
       "    <tr>\n",
       "      <th>0</th>\n",
       "      <td>0.016027</td>\n",
       "      <td>0.071108</td>\n",
       "      <td>0.061764</td>\n",
       "      <td>0.054646</td>\n",
       "    </tr>\n",
       "    <tr>\n",
       "      <th>1</th>\n",
       "      <td>0.042498</td>\n",
       "      <td>0.065736</td>\n",
       "      <td>0.055483</td>\n",
       "      <td>0.048808</td>\n",
       "    </tr>\n",
       "    <tr>\n",
       "      <th>2</th>\n",
       "      <td>0.031757</td>\n",
       "      <td>0.031049</td>\n",
       "      <td>0.026459</td>\n",
       "      <td>0.023417</td>\n",
       "    </tr>\n",
       "    <tr>\n",
       "      <th>3</th>\n",
       "      <td>0.018668</td>\n",
       "      <td>0.020922</td>\n",
       "      <td>0.018406</td>\n",
       "      <td>0.020831</td>\n",
       "    </tr>\n",
       "    <tr>\n",
       "      <th>4</th>\n",
       "      <td>0.026294</td>\n",
       "      <td>0.022812</td>\n",
       "      <td>0.034238</td>\n",
       "      <td>0.032045</td>\n",
       "    </tr>\n",
       "  </tbody>\n",
       "</table>\n",
       "</div>"
      ],
      "text/plain": [
       "   STD_RET_1  STD_RET_2  STD_RET_3  STD_RET_4\n",
       "0   0.016027   0.071108   0.061764   0.054646\n",
       "1   0.042498   0.065736   0.055483   0.048808\n",
       "2   0.031757   0.031049   0.026459   0.023417\n",
       "3   0.018668   0.020922   0.018406   0.020831\n",
       "4   0.026294   0.022812   0.034238   0.032045"
      ]
     },
     "execution_count": 109,
     "metadata": {},
     "output_type": "execute_result"
    }
   ],
   "source": [
    "dic = {}\n",
    "features = []\n",
    "for week in range(4):\n",
    "    for day in range(1, 6):\n",
    "        features.append('RET_' + str(week * 5 + day))\n",
    "    dic['STD_RET_' + str(week + 1)] = x_train[features].std(axis=1)\n",
    "technical_features = pd.concat((technical_features, pd.DataFrame(dic)), axis=1)\n",
    "pd.DataFrame(dic).head()"
   ]
  },
  {
   "cell_type": "code",
   "execution_count": 110,
   "metadata": {},
   "outputs": [
    {
     "data": {
      "text/html": [
       "<div>\n",
       "<style scoped>\n",
       "    .dataframe tbody tr th:only-of-type {\n",
       "        vertical-align: middle;\n",
       "    }\n",
       "\n",
       "    .dataframe tbody tr th {\n",
       "        vertical-align: top;\n",
       "    }\n",
       "\n",
       "    .dataframe thead th {\n",
       "        text-align: right;\n",
       "    }\n",
       "</style>\n",
       "<table border=\"1\" class=\"dataframe\">\n",
       "  <thead>\n",
       "    <tr style=\"text-align: right;\">\n",
       "      <th></th>\n",
       "      <th>STD_RET_1</th>\n",
       "      <th>STD_RET_2</th>\n",
       "      <th>STD_RET_3</th>\n",
       "      <th>STD_RET_4</th>\n",
       "    </tr>\n",
       "  </thead>\n",
       "  <tbody>\n",
       "    <tr>\n",
       "      <th>0</th>\n",
       "      <td>0.008115</td>\n",
       "      <td>0.007013</td>\n",
       "      <td>0.007393</td>\n",
       "      <td>0.008588</td>\n",
       "    </tr>\n",
       "    <tr>\n",
       "      <th>1</th>\n",
       "      <td>0.017657</td>\n",
       "      <td>0.015781</td>\n",
       "      <td>0.018529</td>\n",
       "      <td>0.016163</td>\n",
       "    </tr>\n",
       "    <tr>\n",
       "      <th>2</th>\n",
       "      <td>0.039618</td>\n",
       "      <td>0.030868</td>\n",
       "      <td>0.024874</td>\n",
       "      <td>0.021897</td>\n",
       "    </tr>\n",
       "    <tr>\n",
       "      <th>3</th>\n",
       "      <td>0.011082</td>\n",
       "      <td>0.011144</td>\n",
       "      <td>0.011197</td>\n",
       "      <td>0.013121</td>\n",
       "    </tr>\n",
       "    <tr>\n",
       "      <th>4</th>\n",
       "      <td>0.028448</td>\n",
       "      <td>0.021256</td>\n",
       "      <td>0.018942</td>\n",
       "      <td>0.017663</td>\n",
       "    </tr>\n",
       "  </tbody>\n",
       "</table>\n",
       "</div>"
      ],
      "text/plain": [
       "   STD_RET_1  STD_RET_2  STD_RET_3  STD_RET_4\n",
       "0   0.008115   0.007013   0.007393   0.008588\n",
       "1   0.017657   0.015781   0.018529   0.016163\n",
       "2   0.039618   0.030868   0.024874   0.021897\n",
       "3   0.011082   0.011144   0.011197   0.013121\n",
       "4   0.028448   0.021256   0.018942   0.017663"
      ]
     },
     "execution_count": 110,
     "metadata": {},
     "output_type": "execute_result"
    }
   ],
   "source": [
    "dic = {}\n",
    "features = []\n",
    "for week in range(4):\n",
    "    for day in range(1, 6):\n",
    "        features.append('RET_' + str(week * 5 + day))\n",
    "    dic['STD_RET_' + str(week + 1)] = x_test[features].std(axis=1)\n",
    "technical_features1 = pd.concat((technical_features1, pd.DataFrame(dic)), axis=1)\n",
    "pd.DataFrame(dic).head()"
   ]
  },
  {
   "cell_type": "markdown",
   "metadata": {},
   "source": [
    "### Refers to the standard deviation of trading volume time series over the past m trading days"
   ]
  },
  {
   "cell_type": "code",
   "execution_count": 111,
   "metadata": {},
   "outputs": [
    {
     "data": {
      "text/html": [
       "<div>\n",
       "<style scoped>\n",
       "    .dataframe tbody tr th:only-of-type {\n",
       "        vertical-align: middle;\n",
       "    }\n",
       "\n",
       "    .dataframe tbody tr th {\n",
       "        vertical-align: top;\n",
       "    }\n",
       "\n",
       "    .dataframe thead th {\n",
       "        text-align: right;\n",
       "    }\n",
       "</style>\n",
       "<table border=\"1\" class=\"dataframe\">\n",
       "  <thead>\n",
       "    <tr style=\"text-align: right;\">\n",
       "      <th></th>\n",
       "      <th>STD_VOL_1</th>\n",
       "      <th>STD_VOL_2</th>\n",
       "      <th>STD_VOL_3</th>\n",
       "      <th>STD_VOL_4</th>\n",
       "    </tr>\n",
       "  </thead>\n",
       "  <tbody>\n",
       "    <tr>\n",
       "      <th>0</th>\n",
       "      <td>0.485623</td>\n",
       "      <td>2.816734</td>\n",
       "      <td>2.497299</td>\n",
       "      <td>2.163249</td>\n",
       "    </tr>\n",
       "    <tr>\n",
       "      <th>1</th>\n",
       "      <td>NaN</td>\n",
       "      <td>NaN</td>\n",
       "      <td>NaN</td>\n",
       "      <td>NaN</td>\n",
       "    </tr>\n",
       "    <tr>\n",
       "      <th>2</th>\n",
       "      <td>0.166250</td>\n",
       "      <td>0.342035</td>\n",
       "      <td>0.283777</td>\n",
       "      <td>0.264779</td>\n",
       "    </tr>\n",
       "    <tr>\n",
       "      <th>3</th>\n",
       "      <td>0.348658</td>\n",
       "      <td>0.459691</td>\n",
       "      <td>0.579454</td>\n",
       "      <td>0.518702</td>\n",
       "    </tr>\n",
       "    <tr>\n",
       "      <th>4</th>\n",
       "      <td>0.194741</td>\n",
       "      <td>0.390729</td>\n",
       "      <td>5.062285</td>\n",
       "      <td>4.355388</td>\n",
       "    </tr>\n",
       "  </tbody>\n",
       "</table>\n",
       "</div>"
      ],
      "text/plain": [
       "   STD_VOL_1  STD_VOL_2  STD_VOL_3  STD_VOL_4\n",
       "0   0.485623   2.816734   2.497299   2.163249\n",
       "1        NaN        NaN        NaN        NaN\n",
       "2   0.166250   0.342035   0.283777   0.264779\n",
       "3   0.348658   0.459691   0.579454   0.518702\n",
       "4   0.194741   0.390729   5.062285   4.355388"
      ]
     },
     "execution_count": 111,
     "metadata": {},
     "output_type": "execute_result"
    }
   ],
   "source": [
    "dic = {}\n",
    "features = []\n",
    "for week in range(4):\n",
    "    for day in range(1, 6):\n",
    "        features.append('VOLUME_' + str(week * 5 + day))\n",
    "    dic['STD_VOL_' + str(week + 1)] = x_train[features].std(axis=1)\n",
    "technical_features = pd.concat((technical_features, pd.DataFrame(dic)), axis=1)\n",
    "pd.DataFrame(dic).head()"
   ]
  },
  {
   "cell_type": "code",
   "execution_count": 112,
   "metadata": {},
   "outputs": [
    {
     "data": {
      "text/html": [
       "<div>\n",
       "<style scoped>\n",
       "    .dataframe tbody tr th:only-of-type {\n",
       "        vertical-align: middle;\n",
       "    }\n",
       "\n",
       "    .dataframe tbody tr th {\n",
       "        vertical-align: top;\n",
       "    }\n",
       "\n",
       "    .dataframe thead th {\n",
       "        text-align: right;\n",
       "    }\n",
       "</style>\n",
       "<table border=\"1\" class=\"dataframe\">\n",
       "  <thead>\n",
       "    <tr style=\"text-align: right;\">\n",
       "      <th></th>\n",
       "      <th>STD_VOL_1</th>\n",
       "      <th>STD_VOL_2</th>\n",
       "      <th>STD_VOL_3</th>\n",
       "      <th>STD_VOL_4</th>\n",
       "    </tr>\n",
       "  </thead>\n",
       "  <tbody>\n",
       "    <tr>\n",
       "      <th>0</th>\n",
       "      <td>0.275660</td>\n",
       "      <td>0.211623</td>\n",
       "      <td>0.242260</td>\n",
       "      <td>0.224124</td>\n",
       "    </tr>\n",
       "    <tr>\n",
       "      <th>1</th>\n",
       "      <td>0.306683</td>\n",
       "      <td>0.411666</td>\n",
       "      <td>0.673296</td>\n",
       "      <td>0.610103</td>\n",
       "    </tr>\n",
       "    <tr>\n",
       "      <th>2</th>\n",
       "      <td>1.158301</td>\n",
       "      <td>0.824059</td>\n",
       "      <td>0.709316</td>\n",
       "      <td>0.676794</td>\n",
       "    </tr>\n",
       "    <tr>\n",
       "      <th>3</th>\n",
       "      <td>0.178058</td>\n",
       "      <td>0.552054</td>\n",
       "      <td>0.521546</td>\n",
       "      <td>0.490266</td>\n",
       "    </tr>\n",
       "    <tr>\n",
       "      <th>4</th>\n",
       "      <td>0.118051</td>\n",
       "      <td>0.236249</td>\n",
       "      <td>0.227985</td>\n",
       "      <td>0.408393</td>\n",
       "    </tr>\n",
       "  </tbody>\n",
       "</table>\n",
       "</div>"
      ],
      "text/plain": [
       "   STD_VOL_1  STD_VOL_2  STD_VOL_3  STD_VOL_4\n",
       "0   0.275660   0.211623   0.242260   0.224124\n",
       "1   0.306683   0.411666   0.673296   0.610103\n",
       "2   1.158301   0.824059   0.709316   0.676794\n",
       "3   0.178058   0.552054   0.521546   0.490266\n",
       "4   0.118051   0.236249   0.227985   0.408393"
      ]
     },
     "execution_count": 112,
     "metadata": {},
     "output_type": "execute_result"
    }
   ],
   "source": [
    "dic = {}\n",
    "features = []\n",
    "for week in range(4):\n",
    "    for day in range(1, 6):\n",
    "        features.append('VOLUME_' + str(week * 5 + day))\n",
    "    dic['STD_VOL_' + str(week + 1)] = x_test[features].std(axis=1)\n",
    "technical_features1 = pd.concat((technical_features1, pd.DataFrame(dic)), axis=1)\n",
    "pd.DataFrame(dic).head()"
   ]
  },
  {
   "cell_type": "markdown",
   "metadata": {},
   "source": [
    "### Utilisation des dates et secteurs"
   ]
  },
  {
   "cell_type": "markdown",
   "metadata": {},
   "source": [
    "Nous allons maintenant créer une variable pour prendre en compte le secteur. Nous voulons comparer le volume d'une action à une date donée avec la somme des volumes des autres actions d'entreprise du même secteur et à la même date."
   ]
  },
  {
   "cell_type": "code",
   "execution_count": 113,
   "metadata": {},
   "outputs": [
    {
     "data": {
      "text/html": [
       "<div>\n",
       "<style scoped>\n",
       "    .dataframe tbody tr th:only-of-type {\n",
       "        vertical-align: middle;\n",
       "    }\n",
       "\n",
       "    .dataframe tbody tr th {\n",
       "        vertical-align: top;\n",
       "    }\n",
       "\n",
       "    .dataframe thead th {\n",
       "        text-align: right;\n",
       "    }\n",
       "</style>\n",
       "<table border=\"1\" class=\"dataframe\">\n",
       "  <thead>\n",
       "    <tr style=\"text-align: right;\">\n",
       "      <th></th>\n",
       "      <th>VOL_1</th>\n",
       "      <th>VOL_2</th>\n",
       "      <th>VOL_3</th>\n",
       "      <th>VOL_4</th>\n",
       "    </tr>\n",
       "  </thead>\n",
       "  <tbody>\n",
       "    <tr>\n",
       "      <th>0</th>\n",
       "      <td>0.194968</td>\n",
       "      <td>1.263455</td>\n",
       "      <td>0.588855</td>\n",
       "      <td>0.457365</td>\n",
       "    </tr>\n",
       "    <tr>\n",
       "      <th>1</th>\n",
       "      <td>NaN</td>\n",
       "      <td>NaN</td>\n",
       "      <td>NaN</td>\n",
       "      <td>NaN</td>\n",
       "    </tr>\n",
       "    <tr>\n",
       "      <th>2</th>\n",
       "      <td>0.075251</td>\n",
       "      <td>0.155992</td>\n",
       "      <td>0.176250</td>\n",
       "      <td>0.209642</td>\n",
       "    </tr>\n",
       "    <tr>\n",
       "      <th>3</th>\n",
       "      <td>0.596365</td>\n",
       "      <td>0.426259</td>\n",
       "      <td>0.576366</td>\n",
       "      <td>0.539049</td>\n",
       "    </tr>\n",
       "    <tr>\n",
       "      <th>4</th>\n",
       "      <td>1.097822</td>\n",
       "      <td>0.866669</td>\n",
       "      <td>0.726641</td>\n",
       "      <td>0.606319</td>\n",
       "    </tr>\n",
       "  </tbody>\n",
       "</table>\n",
       "</div>"
      ],
      "text/plain": [
       "      VOL_1     VOL_2     VOL_3     VOL_4\n",
       "0  0.194968  1.263455  0.588855  0.457365\n",
       "1       NaN       NaN       NaN       NaN\n",
       "2  0.075251  0.155992  0.176250  0.209642\n",
       "3  0.596365  0.426259  0.576366  0.539049\n",
       "4  1.097822  0.866669  0.726641  0.606319"
      ]
     },
     "execution_count": 113,
     "metadata": {},
     "output_type": "execute_result"
    }
   ],
   "source": [
    "dic = {}\n",
    "features = []\n",
    "for week in range(4):\n",
    "    for day in range(1, 6):\n",
    "        features.append('VOLUME_' + str(week * 5 + day))\n",
    "    dic['VOL_' + str(week + 1)] = x_train[features].mean(axis=1).abs()\n",
    "pd.DataFrame(dic).head()"
   ]
  },
  {
   "cell_type": "code",
   "execution_count": 114,
   "metadata": {},
   "outputs": [],
   "source": [
    "df = pd.concat((x_train, pd.DataFrame(dic)), axis=1)\n",
    "rt = pd.DataFrame()\n",
    "rt['PER_VOL_1'] = df['VOL_1'] / df.groupby(['SECTOR', 'DATE'])['VOL_1'].transform('sum')\n",
    "rt['PER_VOL_2'] = df['VOL_2'] / df.groupby(['SECTOR', 'DATE'])['VOL_2'].transform('sum')\n",
    "rt['PER_VOL_3'] = df['VOL_3'] / df.groupby(['SECTOR', 'DATE'])['VOL_3'].transform('sum')\n",
    "rt['PER_VOL_4'] = df['VOL_4'] / df.groupby(['SECTOR', 'DATE'])['VOL_4'].transform('sum')"
   ]
  },
  {
   "cell_type": "code",
   "execution_count": 115,
   "metadata": {},
   "outputs": [],
   "source": [
    "technical_features = pd.concat((rt, technical_features), axis=1)"
   ]
  },
  {
   "cell_type": "code",
   "execution_count": 116,
   "metadata": {},
   "outputs": [],
   "source": [
    "technical_features['COND_AVG_RET_1'] = x_train.groupby(['SECTOR', 'DATE'])['RET_1'].transform('mean')\n",
    "technical_features['COND_AVG_RET_2'] = x_train.groupby(['SECTOR', 'DATE'])['RET_2'].transform('mean')\n",
    "technical_features['COND_AVG_VOL_1'] = x_train.groupby(['SECTOR', 'DATE'])['VOLUME_1'].transform('mean')"
   ]
  },
  {
   "cell_type": "code",
   "execution_count": 117,
   "metadata": {},
   "outputs": [
    {
     "data": {
      "text/html": [
       "<div>\n",
       "<style scoped>\n",
       "    .dataframe tbody tr th:only-of-type {\n",
       "        vertical-align: middle;\n",
       "    }\n",
       "\n",
       "    .dataframe tbody tr th {\n",
       "        vertical-align: top;\n",
       "    }\n",
       "\n",
       "    .dataframe thead th {\n",
       "        text-align: right;\n",
       "    }\n",
       "</style>\n",
       "<table border=\"1\" class=\"dataframe\">\n",
       "  <thead>\n",
       "    <tr style=\"text-align: right;\">\n",
       "      <th></th>\n",
       "      <th>VOL_1</th>\n",
       "      <th>VOL_2</th>\n",
       "      <th>VOL_3</th>\n",
       "      <th>VOL_4</th>\n",
       "    </tr>\n",
       "  </thead>\n",
       "  <tbody>\n",
       "    <tr>\n",
       "      <th>0</th>\n",
       "      <td>0.000468</td>\n",
       "      <td>0.082711</td>\n",
       "      <td>0.160619</td>\n",
       "      <td>0.165027</td>\n",
       "    </tr>\n",
       "    <tr>\n",
       "      <th>1</th>\n",
       "      <td>0.614358</td>\n",
       "      <td>0.515895</td>\n",
       "      <td>0.342017</td>\n",
       "      <td>0.341429</td>\n",
       "    </tr>\n",
       "    <tr>\n",
       "      <th>2</th>\n",
       "      <td>0.707427</td>\n",
       "      <td>0.457822</td>\n",
       "      <td>0.316234</td>\n",
       "      <td>0.160086</td>\n",
       "    </tr>\n",
       "    <tr>\n",
       "      <th>3</th>\n",
       "      <td>0.011577</td>\n",
       "      <td>0.019425</td>\n",
       "      <td>0.152835</td>\n",
       "      <td>0.102533</td>\n",
       "    </tr>\n",
       "    <tr>\n",
       "      <th>4</th>\n",
       "      <td>0.288493</td>\n",
       "      <td>0.433828</td>\n",
       "      <td>0.467333</td>\n",
       "      <td>0.353182</td>\n",
       "    </tr>\n",
       "  </tbody>\n",
       "</table>\n",
       "</div>"
      ],
      "text/plain": [
       "      VOL_1     VOL_2     VOL_3     VOL_4\n",
       "0  0.000468  0.082711  0.160619  0.165027\n",
       "1  0.614358  0.515895  0.342017  0.341429\n",
       "2  0.707427  0.457822  0.316234  0.160086\n",
       "3  0.011577  0.019425  0.152835  0.102533\n",
       "4  0.288493  0.433828  0.467333  0.353182"
      ]
     },
     "execution_count": 117,
     "metadata": {},
     "output_type": "execute_result"
    }
   ],
   "source": [
    "dic = {}\n",
    "features = []\n",
    "for week in range(4):\n",
    "    for day in range(1, 6):\n",
    "        features.append('VOLUME_' + str(week * 5 + day))\n",
    "    dic['VOL_' + str(week + 1)] = x_test[features].mean(axis=1).abs()\n",
    "pd.DataFrame(dic).head()"
   ]
  },
  {
   "cell_type": "code",
   "execution_count": 118,
   "metadata": {},
   "outputs": [],
   "source": [
    "df = pd.concat((x_train, pd.DataFrame(dic)), axis=1)\n",
    "rt = pd.DataFrame()\n",
    "rt['PER_VOL_1'] = df['VOL_1'] / df.groupby(['SECTOR', 'DATE'])['VOL_1'].transform('sum')\n",
    "rt['PER_VOL_2'] = df['VOL_2'] / df.groupby(['SECTOR', 'DATE'])['VOL_2'].transform('sum')\n",
    "rt['PER_VOL_3'] = df['VOL_3'] / df.groupby(['SECTOR', 'DATE'])['VOL_3'].transform('sum')\n",
    "rt['PER_VOL_4'] = df['VOL_4'] / df.groupby(['SECTOR', 'DATE'])['VOL_4'].transform('sum')"
   ]
  },
  {
   "cell_type": "code",
   "execution_count": 119,
   "metadata": {},
   "outputs": [],
   "source": [
    "technical_features1 = pd.concat((rt, technical_features1), axis=1)"
   ]
  },
  {
   "cell_type": "code",
   "execution_count": 120,
   "metadata": {},
   "outputs": [],
   "source": [
    "technical_features1['COND_AVG_RET_1'] = x_test.groupby(['SECTOR', 'DATE'])['RET_1'].transform('mean')\n",
    "technical_features1['COND_AVG_RET_2'] = x_test.groupby(['SECTOR', 'DATE'])['RET_2'].transform('mean')\n",
    "technical_features1['COND_AVG_VOL_1'] = x_test.groupby(['SECTOR', 'DATE'])['VOLUME_1'].transform('mean')"
   ]
  },
  {
   "cell_type": "markdown",
   "metadata": {},
   "source": [
    "### Real return"
   ]
  },
  {
   "cell_type": "code",
   "execution_count": 121,
   "metadata": {},
   "outputs": [],
   "source": [
    "## real return sqrt(prod_1_n 1 + r_i/100, n) (geometric mean)\n",
    "X = np.ones(len(x_train))\n",
    "for col in ['RET_' + str(i) for i in range(1, 3)]:\n",
    "    X *= 1 + x_train[col] / 100 \n",
    "technical_features['REAL_RET'] = X ** (1 / 2)"
   ]
  },
  {
   "cell_type": "code",
   "execution_count": 122,
   "metadata": {},
   "outputs": [],
   "source": [
    "## real return sqrt(prod_1_n 1 + r_i/100, n)(geometric mean)\n",
    "X = np.ones(len(x_test))\n",
    "for col in ['RET_' + str(i) for i in range(1, 3)]:\n",
    "    X *= 1 + x_test[col] / 100 \n",
    "technical_features1['REAL_RET'] = X ** (1 / 2)"
   ]
  },
  {
   "cell_type": "markdown",
   "metadata": {},
   "source": [
    "### Non sytematic risk"
   ]
  },
  {
   "cell_type": "code",
   "execution_count": 123,
   "metadata": {},
   "outputs": [],
   "source": [
    "mean_1 = x_train.groupby(['SECTOR', 'DATE'])['RET_1'].transform('mean')\n",
    "mean_2 = x_train.groupby(['SECTOR', 'DATE'])['RET_2'].transform('mean')\n",
    "technical_features['NON_SYS_RISK'] = np.sqrt((x_train['RET_1'] - mean_1) ** 2 + (x_train['RET_2'] - mean_2) ** 2)"
   ]
  },
  {
   "cell_type": "code",
   "execution_count": 124,
   "metadata": {},
   "outputs": [],
   "source": [
    "mean_1 = x_test.groupby(['SECTOR', 'DATE'])['RET_1'].transform('mean')\n",
    "mean_2 = x_test.groupby(['SECTOR', 'DATE'])['RET_2'].transform('mean')\n",
    "technical_features1['NON_SYS_RISK'] = np.sqrt((x_test['RET_1'] - mean_1) ** 2 + (x_test['RET_2'] - mean_2) ** 2)"
   ]
  },
  {
   "cell_type": "code",
   "execution_count": 125,
   "metadata": {},
   "outputs": [
    {
     "data": {
      "text/html": [
       "<div>\n",
       "<style scoped>\n",
       "    .dataframe tbody tr th:only-of-type {\n",
       "        vertical-align: middle;\n",
       "    }\n",
       "\n",
       "    .dataframe tbody tr th {\n",
       "        vertical-align: top;\n",
       "    }\n",
       "\n",
       "    .dataframe thead th {\n",
       "        text-align: right;\n",
       "    }\n",
       "</style>\n",
       "<table border=\"1\" class=\"dataframe\">\n",
       "  <thead>\n",
       "    <tr style=\"text-align: right;\">\n",
       "      <th></th>\n",
       "      <th>PER_VOL_1</th>\n",
       "      <th>PER_VOL_2</th>\n",
       "      <th>PER_VOL_3</th>\n",
       "      <th>PER_VOL_4</th>\n",
       "      <th>AVG_RET_1</th>\n",
       "      <th>AVG_RET_2</th>\n",
       "      <th>VOL_1/VOL_2</th>\n",
       "      <th>VOL_1/VOL_3</th>\n",
       "      <th>VOL_1/VOL_4</th>\n",
       "      <th>STD_RET_1</th>\n",
       "      <th>...</th>\n",
       "      <th>STD_RET_4</th>\n",
       "      <th>STD_VOL_1</th>\n",
       "      <th>STD_VOL_2</th>\n",
       "      <th>STD_VOL_3</th>\n",
       "      <th>STD_VOL_4</th>\n",
       "      <th>COND_AVG_RET_1</th>\n",
       "      <th>COND_AVG_RET_2</th>\n",
       "      <th>COND_AVG_VOL_1</th>\n",
       "      <th>REAL_RET</th>\n",
       "      <th>NON_SYS_RISK</th>\n",
       "    </tr>\n",
       "  </thead>\n",
       "  <tbody>\n",
       "    <tr>\n",
       "      <th>0</th>\n",
       "      <td>0.000003</td>\n",
       "      <td>0.000560</td>\n",
       "      <td>0.001213</td>\n",
       "      <td>0.001389</td>\n",
       "      <td>0.007166</td>\n",
       "      <td>-0.000524</td>\n",
       "      <td>-0.005655</td>\n",
       "      <td>-0.002912</td>\n",
       "      <td>-0.002834</td>\n",
       "      <td>0.008115</td>\n",
       "      <td>...</td>\n",
       "      <td>0.008588</td>\n",
       "      <td>0.275660</td>\n",
       "      <td>0.211623</td>\n",
       "      <td>0.242260</td>\n",
       "      <td>0.224124</td>\n",
       "      <td>0.003720</td>\n",
       "      <td>0.007990</td>\n",
       "      <td>0.077369</td>\n",
       "      <td>1.000151</td>\n",
       "      <td>0.016617</td>\n",
       "    </tr>\n",
       "    <tr>\n",
       "      <th>1</th>\n",
       "      <td>0.004885</td>\n",
       "      <td>0.003425</td>\n",
       "      <td>0.002687</td>\n",
       "      <td>0.003294</td>\n",
       "      <td>-0.002511</td>\n",
       "      <td>0.006814</td>\n",
       "      <td>1.190858</td>\n",
       "      <td>1.796281</td>\n",
       "      <td>1.799375</td>\n",
       "      <td>0.017657</td>\n",
       "      <td>...</td>\n",
       "      <td>0.016163</td>\n",
       "      <td>0.306683</td>\n",
       "      <td>0.411666</td>\n",
       "      <td>0.673296</td>\n",
       "      <td>0.610103</td>\n",
       "      <td>0.003339</td>\n",
       "      <td>0.015663</td>\n",
       "      <td>-0.098914</td>\n",
       "      <td>1.000155</td>\n",
       "      <td>0.008522</td>\n",
       "    </tr>\n",
       "    <tr>\n",
       "      <th>2</th>\n",
       "      <td>0.003781</td>\n",
       "      <td>0.002500</td>\n",
       "      <td>0.001969</td>\n",
       "      <td>0.001129</td>\n",
       "      <td>-0.015665</td>\n",
       "      <td>0.005714</td>\n",
       "      <td>1.545200</td>\n",
       "      <td>2.237034</td>\n",
       "      <td>4.419036</td>\n",
       "      <td>0.039618</td>\n",
       "      <td>...</td>\n",
       "      <td>0.021897</td>\n",
       "      <td>1.158301</td>\n",
       "      <td>0.824059</td>\n",
       "      <td>0.709316</td>\n",
       "      <td>0.676794</td>\n",
       "      <td>-0.000866</td>\n",
       "      <td>0.017638</td>\n",
       "      <td>-0.159531</td>\n",
       "      <td>1.000055</td>\n",
       "      <td>0.013113</td>\n",
       "    </tr>\n",
       "    <tr>\n",
       "      <th>3</th>\n",
       "      <td>0.000316</td>\n",
       "      <td>0.000503</td>\n",
       "      <td>0.003477</td>\n",
       "      <td>0.002786</td>\n",
       "      <td>0.004168</td>\n",
       "      <td>0.010717</td>\n",
       "      <td>-0.595983</td>\n",
       "      <td>0.075749</td>\n",
       "      <td>0.112910</td>\n",
       "      <td>0.011082</td>\n",
       "      <td>...</td>\n",
       "      <td>0.013121</td>\n",
       "      <td>0.178058</td>\n",
       "      <td>0.552054</td>\n",
       "      <td>0.521546</td>\n",
       "      <td>0.490266</td>\n",
       "      <td>0.003720</td>\n",
       "      <td>0.007990</td>\n",
       "      <td>0.077369</td>\n",
       "      <td>1.000008</td>\n",
       "      <td>0.024654</td>\n",
       "    </tr>\n",
       "    <tr>\n",
       "      <th>4</th>\n",
       "      <td>0.008208</td>\n",
       "      <td>0.012715</td>\n",
       "      <td>0.015898</td>\n",
       "      <td>0.013201</td>\n",
       "      <td>-0.001829</td>\n",
       "      <td>0.007099</td>\n",
       "      <td>0.664994</td>\n",
       "      <td>0.617317</td>\n",
       "      <td>0.816838</td>\n",
       "      <td>0.028448</td>\n",
       "      <td>...</td>\n",
       "      <td>0.017663</td>\n",
       "      <td>0.118051</td>\n",
       "      <td>0.236249</td>\n",
       "      <td>0.227985</td>\n",
       "      <td>0.408393</td>\n",
       "      <td>-0.000866</td>\n",
       "      <td>0.017638</td>\n",
       "      <td>-0.159531</td>\n",
       "      <td>1.000171</td>\n",
       "      <td>0.013328</td>\n",
       "    </tr>\n",
       "    <tr>\n",
       "      <th>...</th>\n",
       "      <td>...</td>\n",
       "      <td>...</td>\n",
       "      <td>...</td>\n",
       "      <td>...</td>\n",
       "      <td>...</td>\n",
       "      <td>...</td>\n",
       "      <td>...</td>\n",
       "      <td>...</td>\n",
       "      <td>...</td>\n",
       "      <td>...</td>\n",
       "      <td>...</td>\n",
       "      <td>...</td>\n",
       "      <td>...</td>\n",
       "      <td>...</td>\n",
       "      <td>...</td>\n",
       "      <td>...</td>\n",
       "      <td>...</td>\n",
       "      <td>...</td>\n",
       "      <td>...</td>\n",
       "      <td>...</td>\n",
       "      <td>...</td>\n",
       "    </tr>\n",
       "    <tr>\n",
       "      <th>418590</th>\n",
       "      <td>NaN</td>\n",
       "      <td>NaN</td>\n",
       "      <td>NaN</td>\n",
       "      <td>NaN</td>\n",
       "      <td>NaN</td>\n",
       "      <td>NaN</td>\n",
       "      <td>NaN</td>\n",
       "      <td>NaN</td>\n",
       "      <td>NaN</td>\n",
       "      <td>NaN</td>\n",
       "      <td>...</td>\n",
       "      <td>NaN</td>\n",
       "      <td>NaN</td>\n",
       "      <td>NaN</td>\n",
       "      <td>NaN</td>\n",
       "      <td>NaN</td>\n",
       "      <td>NaN</td>\n",
       "      <td>NaN</td>\n",
       "      <td>NaN</td>\n",
       "      <td>NaN</td>\n",
       "      <td>NaN</td>\n",
       "    </tr>\n",
       "    <tr>\n",
       "      <th>418591</th>\n",
       "      <td>NaN</td>\n",
       "      <td>NaN</td>\n",
       "      <td>NaN</td>\n",
       "      <td>NaN</td>\n",
       "      <td>NaN</td>\n",
       "      <td>NaN</td>\n",
       "      <td>NaN</td>\n",
       "      <td>NaN</td>\n",
       "      <td>NaN</td>\n",
       "      <td>NaN</td>\n",
       "      <td>...</td>\n",
       "      <td>NaN</td>\n",
       "      <td>NaN</td>\n",
       "      <td>NaN</td>\n",
       "      <td>NaN</td>\n",
       "      <td>NaN</td>\n",
       "      <td>NaN</td>\n",
       "      <td>NaN</td>\n",
       "      <td>NaN</td>\n",
       "      <td>NaN</td>\n",
       "      <td>NaN</td>\n",
       "    </tr>\n",
       "    <tr>\n",
       "      <th>418592</th>\n",
       "      <td>NaN</td>\n",
       "      <td>NaN</td>\n",
       "      <td>NaN</td>\n",
       "      <td>NaN</td>\n",
       "      <td>NaN</td>\n",
       "      <td>NaN</td>\n",
       "      <td>NaN</td>\n",
       "      <td>NaN</td>\n",
       "      <td>NaN</td>\n",
       "      <td>NaN</td>\n",
       "      <td>...</td>\n",
       "      <td>NaN</td>\n",
       "      <td>NaN</td>\n",
       "      <td>NaN</td>\n",
       "      <td>NaN</td>\n",
       "      <td>NaN</td>\n",
       "      <td>NaN</td>\n",
       "      <td>NaN</td>\n",
       "      <td>NaN</td>\n",
       "      <td>NaN</td>\n",
       "      <td>NaN</td>\n",
       "    </tr>\n",
       "    <tr>\n",
       "      <th>418593</th>\n",
       "      <td>NaN</td>\n",
       "      <td>NaN</td>\n",
       "      <td>NaN</td>\n",
       "      <td>NaN</td>\n",
       "      <td>NaN</td>\n",
       "      <td>NaN</td>\n",
       "      <td>NaN</td>\n",
       "      <td>NaN</td>\n",
       "      <td>NaN</td>\n",
       "      <td>NaN</td>\n",
       "      <td>...</td>\n",
       "      <td>NaN</td>\n",
       "      <td>NaN</td>\n",
       "      <td>NaN</td>\n",
       "      <td>NaN</td>\n",
       "      <td>NaN</td>\n",
       "      <td>NaN</td>\n",
       "      <td>NaN</td>\n",
       "      <td>NaN</td>\n",
       "      <td>NaN</td>\n",
       "      <td>NaN</td>\n",
       "    </tr>\n",
       "    <tr>\n",
       "      <th>418594</th>\n",
       "      <td>NaN</td>\n",
       "      <td>NaN</td>\n",
       "      <td>NaN</td>\n",
       "      <td>NaN</td>\n",
       "      <td>NaN</td>\n",
       "      <td>NaN</td>\n",
       "      <td>NaN</td>\n",
       "      <td>NaN</td>\n",
       "      <td>NaN</td>\n",
       "      <td>NaN</td>\n",
       "      <td>...</td>\n",
       "      <td>NaN</td>\n",
       "      <td>NaN</td>\n",
       "      <td>NaN</td>\n",
       "      <td>NaN</td>\n",
       "      <td>NaN</td>\n",
       "      <td>NaN</td>\n",
       "      <td>NaN</td>\n",
       "      <td>NaN</td>\n",
       "      <td>NaN</td>\n",
       "      <td>NaN</td>\n",
       "    </tr>\n",
       "  </tbody>\n",
       "</table>\n",
       "<p>418595 rows × 22 columns</p>\n",
       "</div>"
      ],
      "text/plain": [
       "        PER_VOL_1  PER_VOL_2  PER_VOL_3  PER_VOL_4  AVG_RET_1  AVG_RET_2  \\\n",
       "0        0.000003   0.000560   0.001213   0.001389   0.007166  -0.000524   \n",
       "1        0.004885   0.003425   0.002687   0.003294  -0.002511   0.006814   \n",
       "2        0.003781   0.002500   0.001969   0.001129  -0.015665   0.005714   \n",
       "3        0.000316   0.000503   0.003477   0.002786   0.004168   0.010717   \n",
       "4        0.008208   0.012715   0.015898   0.013201  -0.001829   0.007099   \n",
       "...           ...        ...        ...        ...        ...        ...   \n",
       "418590        NaN        NaN        NaN        NaN        NaN        NaN   \n",
       "418591        NaN        NaN        NaN        NaN        NaN        NaN   \n",
       "418592        NaN        NaN        NaN        NaN        NaN        NaN   \n",
       "418593        NaN        NaN        NaN        NaN        NaN        NaN   \n",
       "418594        NaN        NaN        NaN        NaN        NaN        NaN   \n",
       "\n",
       "        VOL_1/VOL_2  VOL_1/VOL_3  VOL_1/VOL_4  STD_RET_1  ...  STD_RET_4  \\\n",
       "0         -0.005655    -0.002912    -0.002834   0.008115  ...   0.008588   \n",
       "1          1.190858     1.796281     1.799375   0.017657  ...   0.016163   \n",
       "2          1.545200     2.237034     4.419036   0.039618  ...   0.021897   \n",
       "3         -0.595983     0.075749     0.112910   0.011082  ...   0.013121   \n",
       "4          0.664994     0.617317     0.816838   0.028448  ...   0.017663   \n",
       "...             ...          ...          ...        ...  ...        ...   \n",
       "418590          NaN          NaN          NaN        NaN  ...        NaN   \n",
       "418591          NaN          NaN          NaN        NaN  ...        NaN   \n",
       "418592          NaN          NaN          NaN        NaN  ...        NaN   \n",
       "418593          NaN          NaN          NaN        NaN  ...        NaN   \n",
       "418594          NaN          NaN          NaN        NaN  ...        NaN   \n",
       "\n",
       "        STD_VOL_1  STD_VOL_2  STD_VOL_3  STD_VOL_4  COND_AVG_RET_1  \\\n",
       "0        0.275660   0.211623   0.242260   0.224124        0.003720   \n",
       "1        0.306683   0.411666   0.673296   0.610103        0.003339   \n",
       "2        1.158301   0.824059   0.709316   0.676794       -0.000866   \n",
       "3        0.178058   0.552054   0.521546   0.490266        0.003720   \n",
       "4        0.118051   0.236249   0.227985   0.408393       -0.000866   \n",
       "...           ...        ...        ...        ...             ...   \n",
       "418590        NaN        NaN        NaN        NaN             NaN   \n",
       "418591        NaN        NaN        NaN        NaN             NaN   \n",
       "418592        NaN        NaN        NaN        NaN             NaN   \n",
       "418593        NaN        NaN        NaN        NaN             NaN   \n",
       "418594        NaN        NaN        NaN        NaN             NaN   \n",
       "\n",
       "        COND_AVG_RET_2  COND_AVG_VOL_1  REAL_RET  NON_SYS_RISK  \n",
       "0             0.007990        0.077369  1.000151      0.016617  \n",
       "1             0.015663       -0.098914  1.000155      0.008522  \n",
       "2             0.017638       -0.159531  1.000055      0.013113  \n",
       "3             0.007990        0.077369  1.000008      0.024654  \n",
       "4             0.017638       -0.159531  1.000171      0.013328  \n",
       "...                ...             ...       ...           ...  \n",
       "418590             NaN             NaN       NaN           NaN  \n",
       "418591             NaN             NaN       NaN           NaN  \n",
       "418592             NaN             NaN       NaN           NaN  \n",
       "418593             NaN             NaN       NaN           NaN  \n",
       "418594             NaN             NaN       NaN           NaN  \n",
       "\n",
       "[418595 rows x 22 columns]"
      ]
     },
     "execution_count": 125,
     "metadata": {},
     "output_type": "execute_result"
    }
   ],
   "source": [
    "technical_features1"
   ]
  },
  {
   "cell_type": "markdown",
   "metadata": {},
   "source": [
    "# Feature selection"
   ]
  },
  {
   "cell_type": "code",
   "execution_count": 126,
   "metadata": {},
   "outputs": [],
   "source": [
    "from sklearn.feature_selection import RFE\n",
    "from sklearn.ensemble import RandomForestClassifier"
   ]
  },
  {
   "cell_type": "code",
   "execution_count": 127,
   "metadata": {
    "scrolled": true
   },
   "outputs": [
    {
     "name": "stderr",
     "output_type": "stream",
     "text": [
      "/Users/Bilel945/opt/anaconda3/lib/python3.8/site-packages/sklearn/utils/validation.py:68: FutureWarning: Pass n_features_to_select=5 as keyword args. From version 0.25 passing these as positional arguments will result in an error\n",
      "  warnings.warn(\"Pass {} as keyword args. From version 0.25 \"\n",
      "[Parallel(n_jobs=-1)]: Using backend ThreadingBackend with 4 concurrent workers.\n"
     ]
    },
    {
     "name": "stdout",
     "output_type": "stream",
     "text": [
      "building tree 1 of 60\n",
      "building tree 2 of 60\n",
      "building tree 3 of 60\n",
      "building tree 4 of 60\n",
      "building tree 5 of 60\n",
      "building tree 6 of 60\n",
      "building tree 7 of 60\n",
      "building tree 8 of 60\n"
     ]
    },
    {
     "name": "stderr",
     "output_type": "stream",
     "text": [
      "[Parallel(n_jobs=-1)]: Done   5 tasks      | elapsed:    5.0s\n"
     ]
    },
    {
     "name": "stdout",
     "output_type": "stream",
     "text": [
      "building tree 9 of 60\n",
      "building tree 10 of 60\n",
      "building tree 11 of 60\n",
      "building tree 12 of 60\n",
      "building tree 13 of 60\n",
      "building tree 14 of 60\n"
     ]
    },
    {
     "name": "stderr",
     "output_type": "stream",
     "text": [
      "[Parallel(n_jobs=-1)]: Done  10 tasks      | elapsed:    7.1s\n"
     ]
    },
    {
     "name": "stdout",
     "output_type": "stream",
     "text": [
      "building tree 15 of 60\n",
      "building tree 16 of 60\n",
      "building tree 17 of 60\n",
      "building tree 18 of 60\n",
      "building tree 19 of 60\n",
      "building tree 20 of 60\n"
     ]
    },
    {
     "name": "stderr",
     "output_type": "stream",
     "text": [
      "[Parallel(n_jobs=-1)]: Done  17 tasks      | elapsed:   11.8s\n"
     ]
    },
    {
     "name": "stdout",
     "output_type": "stream",
     "text": [
      "building tree 21 of 60\n",
      "building tree 22 of 60\n",
      "building tree 23 of 60\n",
      "building tree 24 of 60\n",
      "building tree 25 of 60\n",
      "building tree 26 of 60\n",
      "building tree 27 of 60\n",
      "building tree 28 of 60\n"
     ]
    },
    {
     "name": "stderr",
     "output_type": "stream",
     "text": [
      "[Parallel(n_jobs=-1)]: Done  24 tasks      | elapsed:   15.1s\n"
     ]
    },
    {
     "name": "stdout",
     "output_type": "stream",
     "text": [
      "building tree 29 of 60\n",
      "building tree 30 of 60\n",
      "building tree 31 of 60\n",
      "building tree 32 of 60\n",
      "building tree 33 of 60\n",
      "building tree 34 of 60\n",
      "building tree 35 of 60\n",
      "building tree 36 of 60\n"
     ]
    },
    {
     "name": "stderr",
     "output_type": "stream",
     "text": [
      "[Parallel(n_jobs=-1)]: Done  33 tasks      | elapsed:   22.2s\n"
     ]
    },
    {
     "name": "stdout",
     "output_type": "stream",
     "text": [
      "building tree 37 of 60\n",
      "building tree 38 of 60\n",
      "building tree 39 of 60\n",
      "building tree 40 of 60\n",
      "building tree 41 of 60\n",
      "building tree 42 of 60\n",
      "building tree 43 of 60\n",
      "building tree 44 of 60\n",
      "building tree 45 of 60\n"
     ]
    },
    {
     "name": "stderr",
     "output_type": "stream",
     "text": [
      "[Parallel(n_jobs=-1)]: Done  42 tasks      | elapsed:   28.0s\n"
     ]
    },
    {
     "name": "stdout",
     "output_type": "stream",
     "text": [
      "building tree 46 of 60\n",
      "building tree 47 of 60\n",
      "building tree 48 of 60\n",
      "building tree 49 of 60\n",
      "building tree 50 of 60\n",
      "building tree 51 of 60\n",
      "building tree 52 of 60\n",
      "building tree 53 of 60\n",
      "building tree 54 of 60\n",
      "building tree 55 of 60\n",
      "building tree 56 of 60\n"
     ]
    },
    {
     "name": "stderr",
     "output_type": "stream",
     "text": [
      "[Parallel(n_jobs=-1)]: Done  53 tasks      | elapsed:   36.3s\n"
     ]
    },
    {
     "name": "stdout",
     "output_type": "stream",
     "text": [
      "building tree 57 of 60\n",
      "building tree 58 of 60\n",
      "building tree 59 of 60\n",
      "building tree 60 of 60\n"
     ]
    },
    {
     "name": "stderr",
     "output_type": "stream",
     "text": [
      "[Parallel(n_jobs=-1)]: Done  60 out of  60 | elapsed:   39.2s remaining:    0.0s\n",
      "[Parallel(n_jobs=-1)]: Done  60 out of  60 | elapsed:   39.2s finished\n",
      "[Parallel(n_jobs=-1)]: Using backend ThreadingBackend with 4 concurrent workers.\n"
     ]
    },
    {
     "name": "stdout",
     "output_type": "stream",
     "text": [
      "building tree 1 of 60\n",
      "building tree 2 of 60building tree 3 of 60\n",
      "building tree 4 of 60\n",
      "\n",
      "building tree 5 of 60building tree 6 of 60\n",
      "\n",
      "building tree 7 of 60\n",
      "building tree 8 of 60\n"
     ]
    },
    {
     "name": "stderr",
     "output_type": "stream",
     "text": [
      "[Parallel(n_jobs=-1)]: Done   5 tasks      | elapsed:    4.9s\n"
     ]
    },
    {
     "name": "stdout",
     "output_type": "stream",
     "text": [
      "building tree 9 of 60\n",
      "building tree 10 of 60\n",
      "building tree 11 of 60\n",
      "building tree 12 of 60\n",
      "building tree 13 of 60\n",
      "building tree 14 of 60\n",
      "building tree 15 of 60\n"
     ]
    },
    {
     "name": "stderr",
     "output_type": "stream",
     "text": [
      "[Parallel(n_jobs=-1)]: Done  10 tasks      | elapsed:    7.9s\n"
     ]
    },
    {
     "name": "stdout",
     "output_type": "stream",
     "text": [
      "building tree 16 of 60\n",
      "building tree 17 of 60\n",
      "building tree 18 of 60\n",
      "building tree 19 of 60\n",
      "building tree 20 of 60\n"
     ]
    },
    {
     "name": "stderr",
     "output_type": "stream",
     "text": [
      "[Parallel(n_jobs=-1)]: Done  17 tasks      | elapsed:   12.0s\n"
     ]
    },
    {
     "name": "stdout",
     "output_type": "stream",
     "text": [
      "building tree 21 of 60\n",
      "building tree 22 of 60\n",
      "building tree 23 of 60\n",
      "building tree 24 of 60\n",
      "building tree 25 of 60\n",
      "building tree 26 of 60\n",
      "building tree 27 of 60\n"
     ]
    },
    {
     "name": "stderr",
     "output_type": "stream",
     "text": [
      "[Parallel(n_jobs=-1)]: Done  24 tasks      | elapsed:   14.7s\n"
     ]
    },
    {
     "name": "stdout",
     "output_type": "stream",
     "text": [
      "building tree 28 of 60\n",
      "building tree 29 of 60\n",
      "building tree 30 of 60\n",
      "building tree 31 of 60\n",
      "building tree 32 of 60\n",
      "building tree 33 of 60\n",
      "building tree 34 of 60\n",
      "building tree 35 of 60\n",
      "building tree 36 of 60\n"
     ]
    },
    {
     "name": "stderr",
     "output_type": "stream",
     "text": [
      "[Parallel(n_jobs=-1)]: Done  33 tasks      | elapsed:   20.5s\n"
     ]
    },
    {
     "name": "stdout",
     "output_type": "stream",
     "text": [
      "building tree 37 of 60\n",
      "building tree 38 of 60\n",
      "building tree 39 of 60\n",
      "building tree 40 of 60\n",
      "building tree 41 of 60\n",
      "building tree 42 of 60\n",
      "building tree 43 of 60\n",
      "building tree 44 of 60\n",
      "building tree 45 of 60\n"
     ]
    },
    {
     "name": "stderr",
     "output_type": "stream",
     "text": [
      "[Parallel(n_jobs=-1)]: Done  42 tasks      | elapsed:   25.2s\n"
     ]
    },
    {
     "name": "stdout",
     "output_type": "stream",
     "text": [
      "building tree 46 of 60\n",
      "building tree 47 of 60\n",
      "building tree 48 of 60\n",
      "building tree 49 of 60\n",
      "building tree 50 of 60\n",
      "building tree 51 of 60\n",
      "building tree 52 of 60\n",
      "building tree 53 of 60\n",
      "building tree 54 of 60\n",
      "building tree 55 of 60\n",
      "building tree 56 of 60\n"
     ]
    },
    {
     "name": "stderr",
     "output_type": "stream",
     "text": [
      "[Parallel(n_jobs=-1)]: Done  53 tasks      | elapsed:   31.4s\n"
     ]
    },
    {
     "name": "stdout",
     "output_type": "stream",
     "text": [
      "building tree 57 of 60\n",
      "building tree 58 of 60\n",
      "building tree 59 of 60\n",
      "building tree 60 of 60\n"
     ]
    },
    {
     "name": "stderr",
     "output_type": "stream",
     "text": [
      "[Parallel(n_jobs=-1)]: Done  60 out of  60 | elapsed:   34.2s remaining:    0.0s\n",
      "[Parallel(n_jobs=-1)]: Done  60 out of  60 | elapsed:   34.2s finished\n",
      "[Parallel(n_jobs=-1)]: Using backend ThreadingBackend with 4 concurrent workers.\n"
     ]
    },
    {
     "name": "stdout",
     "output_type": "stream",
     "text": [
      "building tree 1 of 60building tree 2 of 60building tree 3 of 60\n",
      "building tree 4 of 60\n",
      "\n",
      "\n",
      "building tree 5 of 60\n",
      "building tree 6 of 60\n",
      "building tree 7 of 60\n",
      "building tree 8 of 60\n"
     ]
    },
    {
     "name": "stderr",
     "output_type": "stream",
     "text": [
      "[Parallel(n_jobs=-1)]: Done   5 tasks      | elapsed:    4.3s\n"
     ]
    },
    {
     "name": "stdout",
     "output_type": "stream",
     "text": [
      "building tree 9 of 60\n",
      "building tree 10 of 60\n",
      "building tree 11 of 60\n",
      "building tree 12 of 60\n",
      "building tree 13 of 60\n",
      "building tree 14 of 60\n",
      "building tree 15 of 60\n",
      "building tree 16 of 60\n"
     ]
    },
    {
     "name": "stderr",
     "output_type": "stream",
     "text": [
      "[Parallel(n_jobs=-1)]: Done  10 tasks      | elapsed:    6.4s\n"
     ]
    },
    {
     "name": "stdout",
     "output_type": "stream",
     "text": [
      "building tree 17 of 60\n",
      "building tree 18 of 60\n",
      "building tree 19 of 60\n",
      "building tree 20 of 60\n"
     ]
    },
    {
     "name": "stderr",
     "output_type": "stream",
     "text": [
      "[Parallel(n_jobs=-1)]: Done  17 tasks      | elapsed:   10.7s\n"
     ]
    },
    {
     "name": "stdout",
     "output_type": "stream",
     "text": [
      "building tree 21 of 60\n",
      "building tree 22 of 60\n",
      "building tree 23 of 60\n",
      "building tree 24 of 60\n",
      "building tree 25 of 60\n",
      "building tree 26 of 60\n",
      "building tree 27 of 60\n",
      "building tree 28 of 60\n"
     ]
    },
    {
     "name": "stderr",
     "output_type": "stream",
     "text": [
      "[Parallel(n_jobs=-1)]: Done  24 tasks      | elapsed:   13.2s\n"
     ]
    },
    {
     "name": "stdout",
     "output_type": "stream",
     "text": [
      "building tree 29 of 60\n",
      "building tree 30 of 60\n",
      "building tree 31 of 60\n",
      "building tree 32 of 60\n",
      "building tree 33 of 60\n",
      "building tree 34 of 60\n",
      "building tree 35 of 60\n",
      "building tree 36 of 60\n"
     ]
    },
    {
     "name": "stderr",
     "output_type": "stream",
     "text": [
      "[Parallel(n_jobs=-1)]: Done  33 tasks      | elapsed:   19.7s\n"
     ]
    },
    {
     "name": "stdout",
     "output_type": "stream",
     "text": [
      "building tree 37 of 60\n",
      "building tree 38 of 60\n",
      "building tree 39 of 60\n",
      "building tree 40 of 60\n",
      "building tree 41 of 60\n",
      "building tree 42 of 60\n",
      "building tree 43 of 60\n",
      "building tree 44 of 60\n",
      "building tree 45 of 60\n"
     ]
    },
    {
     "name": "stderr",
     "output_type": "stream",
     "text": [
      "[Parallel(n_jobs=-1)]: Done  42 tasks      | elapsed:   24.2s\n"
     ]
    },
    {
     "name": "stdout",
     "output_type": "stream",
     "text": [
      "building tree 46 of 60\n",
      "building tree 47 of 60\n",
      "building tree 48 of 60\n",
      "building tree 49 of 60\n",
      "building tree 50 of 60\n",
      "building tree 51 of 60\n",
      "building tree 52 of 60\n",
      "building tree 53 of 60\n",
      "building tree 54 of 60\n",
      "building tree 55 of 60\n",
      "building tree 56 of 60\n"
     ]
    },
    {
     "name": "stderr",
     "output_type": "stream",
     "text": [
      "[Parallel(n_jobs=-1)]: Done  53 tasks      | elapsed:   30.6s\n"
     ]
    },
    {
     "name": "stdout",
     "output_type": "stream",
     "text": [
      "building tree 57 of 60\n",
      "building tree 58 of 60\n",
      "building tree 59 of 60\n",
      "building tree 60 of 60\n"
     ]
    },
    {
     "name": "stderr",
     "output_type": "stream",
     "text": [
      "[Parallel(n_jobs=-1)]: Done  60 out of  60 | elapsed:   33.0s remaining:    0.0s\n",
      "[Parallel(n_jobs=-1)]: Done  60 out of  60 | elapsed:   33.0s finished\n",
      "[Parallel(n_jobs=-1)]: Using backend ThreadingBackend with 4 concurrent workers.\n"
     ]
    },
    {
     "name": "stdout",
     "output_type": "stream",
     "text": [
      "building tree 1 of 60building tree 2 of 60building tree 3 of 60\n",
      "building tree 4 of 60\n",
      "\n",
      "\n",
      "building tree 5 of 60\n",
      "building tree 6 of 60\n",
      "building tree 7 of 60\n",
      "building tree 8 of 60\n"
     ]
    },
    {
     "name": "stderr",
     "output_type": "stream",
     "text": [
      "[Parallel(n_jobs=-1)]: Done   5 tasks      | elapsed:    4.3s\n"
     ]
    },
    {
     "name": "stdout",
     "output_type": "stream",
     "text": [
      "building tree 9 of 60\n",
      "building tree 10 of 60\n",
      "building tree 11 of 60\n",
      "building tree 12 of 60\n",
      "building tree 13 of 60\n",
      "building tree 14 of 60\n"
     ]
    },
    {
     "name": "stderr",
     "output_type": "stream",
     "text": [
      "[Parallel(n_jobs=-1)]: Done  10 tasks      | elapsed:    6.5s\n"
     ]
    },
    {
     "name": "stdout",
     "output_type": "stream",
     "text": [
      "building tree 15 of 60\n",
      "building tree 16 of 60\n",
      "building tree 17 of 60\n",
      "building tree 18 of 60\n",
      "building tree 19 of 60\n",
      "building tree 20 of 60\n"
     ]
    },
    {
     "name": "stderr",
     "output_type": "stream",
     "text": [
      "[Parallel(n_jobs=-1)]: Done  17 tasks      | elapsed:   10.7s\n"
     ]
    },
    {
     "name": "stdout",
     "output_type": "stream",
     "text": [
      "building tree 21 of 60\n",
      "building tree 22 of 60\n",
      "building tree 23 of 60\n",
      "building tree 24 of 60\n",
      "building tree 25 of 60\n",
      "building tree 26 of 60\n",
      "building tree 27 of 60\n",
      "building tree 28 of 60\n"
     ]
    },
    {
     "name": "stderr",
     "output_type": "stream",
     "text": [
      "[Parallel(n_jobs=-1)]: Done  24 tasks      | elapsed:   13.4s\n"
     ]
    },
    {
     "name": "stdout",
     "output_type": "stream",
     "text": [
      "building tree 29 of 60\n",
      "building tree 30 of 60\n",
      "building tree 31 of 60\n",
      "building tree 32 of 60\n",
      "building tree 33 of 60\n",
      "building tree 34 of 60\n",
      "building tree 35 of 60\n",
      "building tree 36 of 60\n"
     ]
    },
    {
     "name": "stderr",
     "output_type": "stream",
     "text": [
      "[Parallel(n_jobs=-1)]: Done  33 tasks      | elapsed:   19.3s\n"
     ]
    },
    {
     "name": "stdout",
     "output_type": "stream",
     "text": [
      "building tree 37 of 60\n",
      "building tree 38 of 60\n",
      "building tree 39 of 60\n",
      "building tree 40 of 60\n",
      "building tree 41 of 60\n",
      "building tree 42 of 60\n",
      "building tree 43 of 60\n",
      "building tree 44 of 60\n",
      "building tree 45 of 60\n",
      "building tree 46 of 60\n"
     ]
    },
    {
     "name": "stderr",
     "output_type": "stream",
     "text": [
      "[Parallel(n_jobs=-1)]: Done  42 tasks      | elapsed:   23.7s\n"
     ]
    },
    {
     "name": "stdout",
     "output_type": "stream",
     "text": [
      "building tree 47 of 60\n",
      "building tree 48 of 60\n",
      "building tree 49 of 60\n",
      "building tree 50 of 60\n",
      "building tree 51 of 60\n",
      "building tree 52 of 60\n",
      "building tree 53 of 60\n",
      "building tree 54 of 60\n",
      "building tree 55 of 60\n",
      "building tree 56 of 60\n"
     ]
    },
    {
     "name": "stderr",
     "output_type": "stream",
     "text": [
      "[Parallel(n_jobs=-1)]: Done  53 tasks      | elapsed:   30.2s\n"
     ]
    },
    {
     "name": "stdout",
     "output_type": "stream",
     "text": [
      "building tree 57 of 60\n",
      "building tree 58 of 60\n",
      "building tree 59 of 60\n",
      "building tree 60 of 60\n"
     ]
    },
    {
     "name": "stderr",
     "output_type": "stream",
     "text": [
      "[Parallel(n_jobs=-1)]: Done  60 out of  60 | elapsed:   33.0s remaining:    0.0s\n",
      "[Parallel(n_jobs=-1)]: Done  60 out of  60 | elapsed:   33.0s finished\n",
      "[Parallel(n_jobs=-1)]: Using backend ThreadingBackend with 4 concurrent workers.\n"
     ]
    },
    {
     "name": "stdout",
     "output_type": "stream",
     "text": [
      "building tree 1 of 60building tree 2 of 60building tree 3 of 60\n",
      "\n",
      "building tree 4 of 60\n",
      "\n",
      "building tree 5 of 60\n",
      "building tree 6 of 60\n",
      "building tree 7 of 60\n",
      "building tree 8 of 60\n"
     ]
    },
    {
     "name": "stderr",
     "output_type": "stream",
     "text": [
      "[Parallel(n_jobs=-1)]: Done   5 tasks      | elapsed:    5.2s\n"
     ]
    },
    {
     "name": "stdout",
     "output_type": "stream",
     "text": [
      "building tree 9 of 60\n",
      "building tree 10 of 60\n",
      "building tree 11 of 60\n",
      "building tree 12 of 60\n",
      "building tree 13 of 60\n",
      "building tree 14 of 60\n",
      "building tree 15 of 60\n"
     ]
    },
    {
     "name": "stderr",
     "output_type": "stream",
     "text": [
      "[Parallel(n_jobs=-1)]: Done  10 tasks      | elapsed:    8.2s\n"
     ]
    },
    {
     "name": "stdout",
     "output_type": "stream",
     "text": [
      "building tree 16 of 60\n",
      "building tree 17 of 60\n",
      "building tree 18 of 60\n",
      "building tree 19 of 60\n",
      "building tree 20 of 60\n"
     ]
    },
    {
     "name": "stderr",
     "output_type": "stream",
     "text": [
      "[Parallel(n_jobs=-1)]: Done  17 tasks      | elapsed:   13.0s\n"
     ]
    },
    {
     "name": "stdout",
     "output_type": "stream",
     "text": [
      "building tree 21 of 60\n",
      "building tree 22 of 60\n",
      "building tree 23 of 60building tree 24 of 60\n",
      "\n",
      "building tree 25 of 60\n",
      "building tree 26 of 60\n",
      "building tree 27 of 60\n",
      "building tree 28 of 60\n"
     ]
    },
    {
     "name": "stderr",
     "output_type": "stream",
     "text": [
      "[Parallel(n_jobs=-1)]: Done  24 tasks      | elapsed:   15.8s\n"
     ]
    },
    {
     "name": "stdout",
     "output_type": "stream",
     "text": [
      "building tree 29 of 60\n",
      "building tree 30 of 60\n",
      "building tree 31 of 60\n",
      "building tree 32 of 60\n",
      "building tree 33 of 60\n",
      "building tree 34 of 60\n",
      "building tree 35 of 60\n",
      "building tree 36 of 60\n"
     ]
    },
    {
     "name": "stderr",
     "output_type": "stream",
     "text": [
      "[Parallel(n_jobs=-1)]: Done  33 tasks      | elapsed:   21.8s\n"
     ]
    },
    {
     "name": "stdout",
     "output_type": "stream",
     "text": [
      "building tree 37 of 60\n",
      "building tree 38 of 60\n",
      "building tree 39 of 60\n",
      "building tree 40 of 60\n",
      "building tree 41 of 60\n",
      "building tree 42 of 60\n",
      "building tree 43 of 60\n",
      "building tree 44 of 60\n",
      "building tree 45 of 60\n",
      "building tree 46 of 60\n",
      "building tree 47 of 60\n"
     ]
    },
    {
     "name": "stderr",
     "output_type": "stream",
     "text": [
      "[Parallel(n_jobs=-1)]: Done  42 tasks      | elapsed:   26.3s\n"
     ]
    },
    {
     "name": "stdout",
     "output_type": "stream",
     "text": [
      "building tree 48 of 60\n",
      "building tree 49 of 60\n",
      "building tree 50 of 60\n",
      "building tree 51 of 60\n",
      "building tree 52 of 60\n",
      "building tree 53 of 60\n",
      "building tree 54 of 60\n",
      "building tree 55 of 60\n",
      "building tree 56 of 60\n"
     ]
    },
    {
     "name": "stderr",
     "output_type": "stream",
     "text": [
      "[Parallel(n_jobs=-1)]: Done  53 tasks      | elapsed:   32.4s\n"
     ]
    },
    {
     "name": "stdout",
     "output_type": "stream",
     "text": [
      "building tree 57 of 60\n",
      "building tree 58 of 60\n",
      "building tree 59 of 60\n",
      "building tree 60 of 60\n"
     ]
    },
    {
     "name": "stderr",
     "output_type": "stream",
     "text": [
      "[Parallel(n_jobs=-1)]: Done  60 out of  60 | elapsed:   35.2s remaining:    0.0s\n",
      "[Parallel(n_jobs=-1)]: Done  60 out of  60 | elapsed:   35.2s finished\n",
      "[Parallel(n_jobs=-1)]: Using backend ThreadingBackend with 4 concurrent workers.\n"
     ]
    },
    {
     "name": "stdout",
     "output_type": "stream",
     "text": [
      "building tree 1 of 60building tree 2 of 60\n",
      "building tree 3 of 60\n",
      "\n",
      "building tree 4 of 60\n",
      "building tree 5 of 60\n",
      "building tree 6 of 60\n",
      "building tree 7 of 60\n",
      "building tree 8 of 60\n"
     ]
    },
    {
     "name": "stderr",
     "output_type": "stream",
     "text": [
      "[Parallel(n_jobs=-1)]: Done   5 tasks      | elapsed:    4.2s\n"
     ]
    },
    {
     "name": "stdout",
     "output_type": "stream",
     "text": [
      "building tree 9 of 60\n",
      "building tree 10 of 60\n",
      "building tree 11 of 60\n",
      "building tree 12 of 60\n",
      "building tree 13 of 60\n",
      "building tree 14 of 60\n",
      "building tree 15 of 60\n"
     ]
    },
    {
     "name": "stderr",
     "output_type": "stream",
     "text": [
      "[Parallel(n_jobs=-1)]: Done  10 tasks      | elapsed:    6.4s\n"
     ]
    },
    {
     "name": "stdout",
     "output_type": "stream",
     "text": [
      "building tree 16 of 60\n",
      "building tree 17 of 60\n",
      "building tree 18 of 60\n",
      "building tree 19 of 60\n",
      "building tree 20 of 60\n"
     ]
    },
    {
     "name": "stderr",
     "output_type": "stream",
     "text": [
      "[Parallel(n_jobs=-1)]: Done  17 tasks      | elapsed:   10.7s\n"
     ]
    },
    {
     "name": "stdout",
     "output_type": "stream",
     "text": [
      "building tree 21 of 60\n",
      "building tree 22 of 60\n",
      "building tree 23 of 60\n",
      "building tree 24 of 60\n",
      "building tree 25 of 60building tree 26 of 60\n",
      "\n",
      "building tree 27 of 60\n"
     ]
    },
    {
     "name": "stderr",
     "output_type": "stream",
     "text": [
      "[Parallel(n_jobs=-1)]: Done  24 tasks      | elapsed:   13.3s\n"
     ]
    },
    {
     "name": "stdout",
     "output_type": "stream",
     "text": [
      "building tree 28 of 60\n",
      "building tree 29 of 60\n",
      "building tree 30 of 60\n",
      "building tree 31 of 60\n",
      "building tree 32 of 60\n",
      "building tree 33 of 60\n",
      "building tree 34 of 60\n",
      "building tree 35 of 60\n",
      "building tree 36 of 60\n"
     ]
    },
    {
     "name": "stderr",
     "output_type": "stream",
     "text": [
      "[Parallel(n_jobs=-1)]: Done  33 tasks      | elapsed:   19.4s\n"
     ]
    },
    {
     "name": "stdout",
     "output_type": "stream",
     "text": [
      "building tree 37 of 60\n",
      "building tree 38 of 60\n",
      "building tree 39 of 60\n",
      "building tree 40 of 60\n",
      "building tree 41 of 60\n",
      "building tree 42 of 60\n",
      "building tree 43 of 60\n",
      "building tree 44 of 60\n",
      "building tree 45 of 60\n",
      "building tree 46 of 60\n",
      "building tree 47 of 60\n",
      "building tree 48 of 60\n"
     ]
    },
    {
     "name": "stderr",
     "output_type": "stream",
     "text": [
      "[Parallel(n_jobs=-1)]: Done  42 tasks      | elapsed:   23.9s\n"
     ]
    },
    {
     "name": "stdout",
     "output_type": "stream",
     "text": [
      "building tree 49 of 60\n",
      "building tree 50 of 60\n",
      "building tree 51 of 60\n",
      "building tree 52 of 60\n",
      "building tree 53 of 60\n",
      "building tree 54 of 60\n",
      "building tree 55 of 60\n",
      "building tree 56 of 60\n"
     ]
    },
    {
     "name": "stderr",
     "output_type": "stream",
     "text": [
      "[Parallel(n_jobs=-1)]: Done  53 tasks      | elapsed:   30.2s\n"
     ]
    },
    {
     "name": "stdout",
     "output_type": "stream",
     "text": [
      "building tree 57 of 60\n",
      "building tree 58 of 60\n",
      "building tree 59 of 60\n",
      "building tree 60 of 60\n"
     ]
    },
    {
     "name": "stderr",
     "output_type": "stream",
     "text": [
      "[Parallel(n_jobs=-1)]: Done  60 out of  60 | elapsed:   32.7s remaining:    0.0s\n",
      "[Parallel(n_jobs=-1)]: Done  60 out of  60 | elapsed:   32.7s finished\n",
      "[Parallel(n_jobs=-1)]: Using backend ThreadingBackend with 4 concurrent workers.\n"
     ]
    },
    {
     "name": "stdout",
     "output_type": "stream",
     "text": [
      "building tree 1 of 60building tree 2 of 60building tree 3 of 60\n",
      "\n",
      "building tree 4 of 60\n",
      "\n",
      "building tree 5 of 60\n",
      "building tree 6 of 60\n",
      "building tree 7 of 60\n",
      "building tree 8 of 60\n"
     ]
    },
    {
     "name": "stderr",
     "output_type": "stream",
     "text": [
      "[Parallel(n_jobs=-1)]: Done   5 tasks      | elapsed:    4.3s\n"
     ]
    },
    {
     "name": "stdout",
     "output_type": "stream",
     "text": [
      "building tree 9 of 60\n",
      "building tree 10 of 60\n",
      "building tree 11 of 60\n",
      "building tree 12 of 60\n",
      "building tree 13 of 60\n",
      "building tree 14 of 60\n",
      "building tree 15 of 60\n",
      "building tree 16 of 60\n"
     ]
    },
    {
     "name": "stderr",
     "output_type": "stream",
     "text": [
      "[Parallel(n_jobs=-1)]: Done  10 tasks      | elapsed:    6.6s\n"
     ]
    },
    {
     "name": "stdout",
     "output_type": "stream",
     "text": [
      "building tree 17 of 60\n",
      "building tree 18 of 60\n",
      "building tree 19 of 60\n",
      "building tree 20 of 60\n"
     ]
    },
    {
     "name": "stderr",
     "output_type": "stream",
     "text": [
      "[Parallel(n_jobs=-1)]: Done  17 tasks      | elapsed:   10.7s\n"
     ]
    },
    {
     "name": "stdout",
     "output_type": "stream",
     "text": [
      "building tree 21 of 60\n",
      "building tree 22 of 60\n",
      "building tree 23 of 60\n",
      "building tree 24 of 60\n",
      "building tree 25 of 60\n",
      "building tree 26 of 60\n",
      "building tree 27 of 60\n",
      "building tree 28 of 60\n"
     ]
    },
    {
     "name": "stderr",
     "output_type": "stream",
     "text": [
      "[Parallel(n_jobs=-1)]: Done  24 tasks      | elapsed:   13.2s\n"
     ]
    },
    {
     "name": "stdout",
     "output_type": "stream",
     "text": [
      "building tree 29 of 60\n",
      "building tree 30 of 60\n",
      "building tree 31 of 60\n",
      "building tree 32 of 60\n",
      "building tree 33 of 60\n",
      "building tree 34 of 60\n",
      "building tree 35 of 60\n",
      "building tree 36 of 60\n"
     ]
    },
    {
     "name": "stderr",
     "output_type": "stream",
     "text": [
      "[Parallel(n_jobs=-1)]: Done  33 tasks      | elapsed:   19.3s\n"
     ]
    },
    {
     "name": "stdout",
     "output_type": "stream",
     "text": [
      "building tree 37 of 60\n",
      "building tree 38 of 60\n",
      "building tree 39 of 60\n",
      "building tree 40 of 60\n",
      "building tree 41 of 60\n",
      "building tree 42 of 60\n",
      "building tree 43 of 60\n",
      "building tree 44 of 60\n",
      "building tree 45 of 60\n",
      "building tree 46 of 60\n"
     ]
    },
    {
     "name": "stderr",
     "output_type": "stream",
     "text": [
      "[Parallel(n_jobs=-1)]: Done  42 tasks      | elapsed:   23.8s\n"
     ]
    },
    {
     "name": "stdout",
     "output_type": "stream",
     "text": [
      "building tree 47 of 60\n",
      "building tree 48 of 60\n",
      "building tree 49 of 60\n",
      "building tree 50 of 60\n",
      "building tree 51 of 60\n",
      "building tree 52 of 60\n",
      "building tree 53 of 60\n",
      "building tree 54 of 60\n",
      "building tree 55 of 60\n",
      "building tree 56 of 60\n"
     ]
    },
    {
     "name": "stderr",
     "output_type": "stream",
     "text": [
      "[Parallel(n_jobs=-1)]: Done  53 tasks      | elapsed:   30.1s\n"
     ]
    },
    {
     "name": "stdout",
     "output_type": "stream",
     "text": [
      "building tree 57 of 60\n",
      "building tree 58 of 60\n",
      "building tree 59 of 60\n",
      "building tree 60 of 60\n"
     ]
    },
    {
     "name": "stderr",
     "output_type": "stream",
     "text": [
      "[Parallel(n_jobs=-1)]: Done  60 out of  60 | elapsed:   32.7s remaining:    0.0s\n",
      "[Parallel(n_jobs=-1)]: Done  60 out of  60 | elapsed:   32.7s finished\n",
      "[Parallel(n_jobs=-1)]: Using backend ThreadingBackend with 4 concurrent workers.\n"
     ]
    },
    {
     "name": "stdout",
     "output_type": "stream",
     "text": [
      "building tree 1 of 60\n",
      "building tree 2 of 60building tree 3 of 60\n",
      "building tree 4 of 60\n",
      "\n",
      "building tree 5 of 60\n",
      "building tree 6 of 60\n",
      "building tree 7 of 60\n",
      "building tree 8 of 60\n"
     ]
    },
    {
     "name": "stderr",
     "output_type": "stream",
     "text": [
      "[Parallel(n_jobs=-1)]: Done   5 tasks      | elapsed:    3.3s\n"
     ]
    },
    {
     "name": "stdout",
     "output_type": "stream",
     "text": [
      "building tree 9 of 60\n",
      "building tree 10 of 60\n",
      "building tree 11 of 60\n",
      "building tree 12 of 60\n",
      "building tree 13 of 60\n",
      "building tree 14 of 60\n"
     ]
    },
    {
     "name": "stderr",
     "output_type": "stream",
     "text": [
      "[Parallel(n_jobs=-1)]: Done  10 tasks      | elapsed:    5.1s\n"
     ]
    },
    {
     "name": "stdout",
     "output_type": "stream",
     "text": [
      "building tree 15 of 60\n",
      "building tree 16 of 60\n",
      "building tree 17 of 60\n",
      "building tree 18 of 60\n",
      "building tree 19 of 60\n",
      "building tree 20 of 60\n"
     ]
    },
    {
     "name": "stderr",
     "output_type": "stream",
     "text": [
      "[Parallel(n_jobs=-1)]: Done  17 tasks      | elapsed:    8.4s\n"
     ]
    },
    {
     "name": "stdout",
     "output_type": "stream",
     "text": [
      "building tree 21 of 60\n",
      "building tree 22 of 60\n",
      "building tree 23 of 60\n",
      "building tree 24 of 60\n",
      "building tree 25 of 60\n",
      "building tree 26 of 60\n",
      "building tree 27 of 60\n"
     ]
    },
    {
     "name": "stderr",
     "output_type": "stream",
     "text": [
      "[Parallel(n_jobs=-1)]: Done  24 tasks      | elapsed:   10.5s\n"
     ]
    },
    {
     "name": "stdout",
     "output_type": "stream",
     "text": [
      "building tree 28 of 60\n",
      "building tree 29 of 60\n",
      "building tree 30 of 60\n",
      "building tree 31 of 60\n",
      "building tree 32 of 60\n",
      "building tree 33 of 60\n",
      "building tree 34 of 60\n",
      "building tree 35 of 60\n",
      "building tree 36 of 60\n"
     ]
    },
    {
     "name": "stderr",
     "output_type": "stream",
     "text": [
      "[Parallel(n_jobs=-1)]: Done  33 tasks      | elapsed:   15.2s\n"
     ]
    },
    {
     "name": "stdout",
     "output_type": "stream",
     "text": [
      "building tree 37 of 60\n",
      "building tree 38 of 60\n",
      "building tree 39 of 60\n",
      "building tree 40 of 60\n",
      "building tree 41 of 60\n",
      "building tree 42 of 60\n",
      "building tree 43 of 60\n",
      "building tree 44 of 60\n",
      "building tree 45 of 60\n",
      "building tree 46 of 60\n"
     ]
    },
    {
     "name": "stderr",
     "output_type": "stream",
     "text": [
      "[Parallel(n_jobs=-1)]: Done  42 tasks      | elapsed:   18.8s\n"
     ]
    },
    {
     "name": "stdout",
     "output_type": "stream",
     "text": [
      "building tree 47 of 60\n",
      "building tree 48 of 60\n",
      "building tree 49 of 60\n",
      "building tree 50 of 60\n",
      "building tree 51 of 60\n",
      "building tree 52 of 60\n",
      "building tree 53 of 60\n",
      "building tree 54 of 60\n",
      "building tree 55 of 60\n",
      "building tree 56 of 60\n"
     ]
    },
    {
     "name": "stderr",
     "output_type": "stream",
     "text": [
      "[Parallel(n_jobs=-1)]: Done  53 tasks      | elapsed:   23.9s\n"
     ]
    },
    {
     "name": "stdout",
     "output_type": "stream",
     "text": [
      "building tree 57 of 60\n",
      "building tree 58 of 60\n",
      "building tree 59 of 60\n",
      "building tree 60 of 60\n"
     ]
    },
    {
     "name": "stderr",
     "output_type": "stream",
     "text": [
      "[Parallel(n_jobs=-1)]: Done  60 out of  60 | elapsed:   25.8s remaining:    0.0s\n",
      "[Parallel(n_jobs=-1)]: Done  60 out of  60 | elapsed:   25.8s finished\n",
      "[Parallel(n_jobs=-1)]: Using backend ThreadingBackend with 4 concurrent workers.\n"
     ]
    },
    {
     "name": "stdout",
     "output_type": "stream",
     "text": [
      "building tree 1 of 60building tree 2 of 60\n",
      "\n",
      "building tree 3 of 60building tree 4 of 60\n",
      "\n",
      "building tree 5 of 60\n",
      "building tree 6 of 60\n",
      "building tree 7 of 60\n",
      "building tree 8 of 60\n"
     ]
    },
    {
     "name": "stderr",
     "output_type": "stream",
     "text": [
      "[Parallel(n_jobs=-1)]: Done   5 tasks      | elapsed:    3.3s\n"
     ]
    },
    {
     "name": "stdout",
     "output_type": "stream",
     "text": [
      "building tree 9 of 60building tree 10 of 60\n",
      "\n",
      "building tree 11 of 60\n",
      "building tree 12 of 60\n",
      "building tree 13 of 60\n",
      "building tree 14 of 60\n",
      "building tree 15 of 60\n",
      "building tree 16 of 60\n"
     ]
    },
    {
     "name": "stderr",
     "output_type": "stream",
     "text": [
      "[Parallel(n_jobs=-1)]: Done  10 tasks      | elapsed:    4.9s\n"
     ]
    },
    {
     "name": "stdout",
     "output_type": "stream",
     "text": [
      "building tree 17 of 60\n",
      "building tree 18 of 60\n",
      "building tree 19 of 60\n",
      "building tree 20 of 60\n"
     ]
    },
    {
     "name": "stderr",
     "output_type": "stream",
     "text": [
      "[Parallel(n_jobs=-1)]: Done  17 tasks      | elapsed:    8.6s\n"
     ]
    },
    {
     "name": "stdout",
     "output_type": "stream",
     "text": [
      "building tree 21 of 60\n",
      "building tree 22 of 60\n",
      "building tree 23 of 60\n",
      "building tree 24 of 60\n",
      "building tree 25 of 60\n",
      "building tree 26 of 60\n",
      "building tree 27 of 60\n"
     ]
    },
    {
     "name": "stderr",
     "output_type": "stream",
     "text": [
      "[Parallel(n_jobs=-1)]: Done  24 tasks      | elapsed:   10.5s\n"
     ]
    },
    {
     "name": "stdout",
     "output_type": "stream",
     "text": [
      "building tree 28 of 60\n",
      "building tree 29 of 60\n",
      "building tree 30 of 60\n",
      "building tree 31 of 60\n",
      "building tree 32 of 60\n",
      "building tree 33 of 60\n",
      "building tree 34 of 60\n",
      "building tree 35 of 60\n",
      "building tree 36 of 60\n"
     ]
    },
    {
     "name": "stderr",
     "output_type": "stream",
     "text": [
      "[Parallel(n_jobs=-1)]: Done  33 tasks      | elapsed:   15.1s\n"
     ]
    },
    {
     "name": "stdout",
     "output_type": "stream",
     "text": [
      "building tree 37 of 60\n",
      "building tree 38 of 60\n",
      "building tree 39 of 60\n",
      "building tree 40 of 60\n",
      "building tree 41 of 60\n",
      "building tree 42 of 60\n",
      "building tree 43 of 60\n",
      "building tree 44 of 60\n",
      "building tree 45 of 60\n",
      "building tree 46 of 60\n"
     ]
    },
    {
     "name": "stderr",
     "output_type": "stream",
     "text": [
      "[Parallel(n_jobs=-1)]: Done  42 tasks      | elapsed:   18.9s\n"
     ]
    },
    {
     "name": "stdout",
     "output_type": "stream",
     "text": [
      "building tree 47 of 60\n",
      "building tree 48 of 60\n",
      "building tree 49 of 60\n",
      "building tree 50 of 60\n",
      "building tree 51 of 60\n",
      "building tree 52 of 60\n",
      "building tree 53 of 60\n",
      "building tree 54 of 60\n",
      "building tree 55 of 60\n",
      "building tree 56 of 60\n"
     ]
    },
    {
     "name": "stderr",
     "output_type": "stream",
     "text": [
      "[Parallel(n_jobs=-1)]: Done  53 tasks      | elapsed:   23.8s\n"
     ]
    },
    {
     "name": "stdout",
     "output_type": "stream",
     "text": [
      "building tree 57 of 60\n",
      "building tree 58 of 60\n",
      "building tree 59 of 60\n",
      "building tree 60 of 60\n"
     ]
    },
    {
     "name": "stderr",
     "output_type": "stream",
     "text": [
      "[Parallel(n_jobs=-1)]: Done  60 out of  60 | elapsed:   25.6s remaining:    0.0s\n",
      "[Parallel(n_jobs=-1)]: Done  60 out of  60 | elapsed:   25.6s finished\n",
      "[Parallel(n_jobs=-1)]: Using backend ThreadingBackend with 4 concurrent workers.\n"
     ]
    },
    {
     "name": "stdout",
     "output_type": "stream",
     "text": [
      "building tree 1 of 60\n",
      "building tree 2 of 60building tree 3 of 60\n",
      "\n",
      "building tree 4 of 60\n",
      "building tree 5 of 60\n",
      "building tree 6 of 60\n",
      "building tree 7 of 60\n",
      "building tree 8 of 60\n"
     ]
    },
    {
     "name": "stderr",
     "output_type": "stream",
     "text": [
      "[Parallel(n_jobs=-1)]: Done   5 tasks      | elapsed:    3.5s\n"
     ]
    },
    {
     "name": "stdout",
     "output_type": "stream",
     "text": [
      "building tree 9 of 60\n",
      "building tree 10 of 60\n",
      "building tree 11 of 60\n",
      "building tree 12 of 60\n",
      "building tree 13 of 60\n",
      "building tree 14 of 60building tree 15 of 60\n",
      "\n",
      "building tree 16 of 60\n"
     ]
    },
    {
     "name": "stderr",
     "output_type": "stream",
     "text": [
      "[Parallel(n_jobs=-1)]: Done  10 tasks      | elapsed:    5.1s\n"
     ]
    },
    {
     "name": "stdout",
     "output_type": "stream",
     "text": [
      "building tree 17 of 60\n",
      "building tree 18 of 60\n",
      "building tree 19 of 60\n",
      "building tree 20 of 60\n"
     ]
    },
    {
     "name": "stderr",
     "output_type": "stream",
     "text": [
      "[Parallel(n_jobs=-1)]: Done  17 tasks      | elapsed:    8.0s\n"
     ]
    },
    {
     "name": "stdout",
     "output_type": "stream",
     "text": [
      "building tree 21 of 60\n",
      "building tree 22 of 60\n",
      "building tree 23 of 60\n",
      "building tree 24 of 60\n",
      "building tree 25 of 60\n",
      "building tree 26 of 60\n",
      "building tree 27 of 60\n"
     ]
    },
    {
     "name": "stderr",
     "output_type": "stream",
     "text": [
      "[Parallel(n_jobs=-1)]: Done  24 tasks      | elapsed:   10.1s\n"
     ]
    },
    {
     "name": "stdout",
     "output_type": "stream",
     "text": [
      "building tree 28 of 60\n",
      "building tree 29 of 60\n",
      "building tree 30 of 60\n",
      "building tree 31 of 60\n",
      "building tree 32 of 60\n",
      "building tree 33 of 60\n",
      "building tree 34 of 60\n",
      "building tree 35 of 60\n",
      "building tree 36 of 60\n"
     ]
    },
    {
     "name": "stderr",
     "output_type": "stream",
     "text": [
      "[Parallel(n_jobs=-1)]: Done  33 tasks      | elapsed:   14.7s\n"
     ]
    },
    {
     "name": "stdout",
     "output_type": "stream",
     "text": [
      "building tree 37 of 60\n",
      "building tree 38 of 60\n",
      "building tree 39 of 60\n",
      "building tree 40 of 60\n",
      "building tree 41 of 60\n",
      "building tree 42 of 60\n",
      "building tree 43 of 60\n",
      "building tree 44 of 60\n",
      "building tree 45 of 60\n",
      "building tree 46 of 60\n"
     ]
    },
    {
     "name": "stderr",
     "output_type": "stream",
     "text": [
      "[Parallel(n_jobs=-1)]: Done  42 tasks      | elapsed:   17.9s\n"
     ]
    },
    {
     "name": "stdout",
     "output_type": "stream",
     "text": [
      "building tree 47 of 60\n",
      "building tree 48 of 60\n",
      "building tree 49 of 60\n",
      "building tree 50 of 60\n",
      "building tree 51 of 60\n",
      "building tree 52 of 60\n",
      "building tree 53 of 60\n",
      "building tree 54 of 60\n",
      "building tree 55 of 60\n",
      "building tree 56 of 60\n"
     ]
    },
    {
     "name": "stderr",
     "output_type": "stream",
     "text": [
      "[Parallel(n_jobs=-1)]: Done  53 tasks      | elapsed:   22.8s\n"
     ]
    },
    {
     "name": "stdout",
     "output_type": "stream",
     "text": [
      "building tree 57 of 60\n",
      "building tree 58 of 60\n",
      "building tree 59 of 60\n",
      "building tree 60 of 60\n"
     ]
    },
    {
     "name": "stderr",
     "output_type": "stream",
     "text": [
      "[Parallel(n_jobs=-1)]: Done  60 out of  60 | elapsed:   24.8s remaining:    0.0s\n",
      "[Parallel(n_jobs=-1)]: Done  60 out of  60 | elapsed:   24.8s finished\n",
      "[Parallel(n_jobs=-1)]: Using backend ThreadingBackend with 4 concurrent workers.\n"
     ]
    },
    {
     "name": "stdout",
     "output_type": "stream",
     "text": [
      "building tree 1 of 60\n",
      "building tree 2 of 60building tree 3 of 60\n",
      "building tree 4 of 60\n",
      "\n",
      "building tree 5 of 60\n",
      "building tree 6 of 60\n",
      "building tree 7 of 60\n",
      "building tree 8 of 60\n"
     ]
    },
    {
     "name": "stderr",
     "output_type": "stream",
     "text": [
      "[Parallel(n_jobs=-1)]: Done   5 tasks      | elapsed:    3.1s\n"
     ]
    },
    {
     "name": "stdout",
     "output_type": "stream",
     "text": [
      "building tree 9 of 60\n",
      "building tree 10 of 60\n",
      "building tree 11 of 60\n",
      "building tree 12 of 60\n",
      "building tree 13 of 60\n",
      "building tree 14 of 60\n",
      "building tree 15 of 60\n"
     ]
    },
    {
     "name": "stderr",
     "output_type": "stream",
     "text": [
      "[Parallel(n_jobs=-1)]: Done  10 tasks      | elapsed:    4.7s\n"
     ]
    },
    {
     "name": "stdout",
     "output_type": "stream",
     "text": [
      "building tree 16 of 60\n",
      "building tree 17 of 60\n",
      "building tree 18 of 60\n",
      "building tree 19 of 60\n",
      "building tree 20 of 60\n"
     ]
    },
    {
     "name": "stderr",
     "output_type": "stream",
     "text": [
      "[Parallel(n_jobs=-1)]: Done  17 tasks      | elapsed:    7.9s\n"
     ]
    },
    {
     "name": "stdout",
     "output_type": "stream",
     "text": [
      "building tree 21 of 60\n",
      "building tree 22 of 60\n",
      "building tree 23 of 60\n",
      "building tree 24 of 60\n",
      "building tree 25 of 60\n",
      "building tree 26 of 60\n",
      "building tree 27 of 60\n"
     ]
    },
    {
     "name": "stderr",
     "output_type": "stream",
     "text": [
      "[Parallel(n_jobs=-1)]: Done  24 tasks      | elapsed:    9.9s\n"
     ]
    },
    {
     "name": "stdout",
     "output_type": "stream",
     "text": [
      "building tree 28 of 60\n",
      "building tree 29 of 60\n",
      "building tree 30 of 60\n",
      "building tree 31 of 60\n",
      "building tree 32 of 60\n",
      "building tree 33 of 60\n",
      "building tree 34 of 60\n",
      "building tree 35 of 60\n",
      "building tree 36 of 60\n",
      "building tree 37 of 60\n",
      "building tree 38 of 60\n",
      "building tree 39 of 60\n"
     ]
    },
    {
     "name": "stderr",
     "output_type": "stream",
     "text": [
      "[Parallel(n_jobs=-1)]: Done  33 tasks      | elapsed:   14.4s\n"
     ]
    },
    {
     "name": "stdout",
     "output_type": "stream",
     "text": [
      "building tree 40 of 60\n",
      "building tree 41 of 60\n",
      "building tree 42 of 60\n",
      "building tree 43 of 60\n",
      "building tree 44 of 60\n",
      "building tree 45 of 60\n",
      "building tree 46 of 60\n",
      "building tree 47 of 60\n"
     ]
    },
    {
     "name": "stderr",
     "output_type": "stream",
     "text": [
      "[Parallel(n_jobs=-1)]: Done  42 tasks      | elapsed:   17.8s\n"
     ]
    },
    {
     "name": "stdout",
     "output_type": "stream",
     "text": [
      "building tree 48 of 60\n",
      "building tree 49 of 60\n",
      "building tree 50 of 60\n",
      "building tree 51 of 60\n",
      "building tree 52 of 60\n",
      "building tree 53 of 60\n",
      "building tree 54 of 60\n",
      "building tree 55 of 60\n",
      "building tree 56 of 60\n"
     ]
    },
    {
     "name": "stderr",
     "output_type": "stream",
     "text": [
      "[Parallel(n_jobs=-1)]: Done  53 tasks      | elapsed:   22.4s\n"
     ]
    },
    {
     "name": "stdout",
     "output_type": "stream",
     "text": [
      "building tree 57 of 60\n",
      "building tree 58 of 60\n",
      "building tree 59 of 60\n",
      "building tree 60 of 60\n"
     ]
    },
    {
     "name": "stderr",
     "output_type": "stream",
     "text": [
      "[Parallel(n_jobs=-1)]: Done  60 out of  60 | elapsed:   24.2s remaining:    0.0s\n",
      "[Parallel(n_jobs=-1)]: Done  60 out of  60 | elapsed:   24.2s finished\n",
      "[Parallel(n_jobs=-1)]: Using backend ThreadingBackend with 4 concurrent workers.\n"
     ]
    },
    {
     "name": "stdout",
     "output_type": "stream",
     "text": [
      "building tree 1 of 60building tree 2 of 60building tree 3 of 60\n",
      "building tree 4 of 60\n",
      "\n",
      "\n",
      "building tree 5 of 60building tree 6 of 60\n",
      "\n",
      "building tree 7 of 60\n",
      "building tree 8 of 60\n"
     ]
    },
    {
     "name": "stderr",
     "output_type": "stream",
     "text": [
      "[Parallel(n_jobs=-1)]: Done   5 tasks      | elapsed:    3.1s\n"
     ]
    },
    {
     "name": "stdout",
     "output_type": "stream",
     "text": [
      "building tree 9 of 60\n",
      "building tree 10 of 60\n",
      "building tree 11 of 60\n",
      "building tree 12 of 60\n",
      "building tree 13 of 60\n",
      "building tree 14 of 60\n"
     ]
    },
    {
     "name": "stderr",
     "output_type": "stream",
     "text": [
      "[Parallel(n_jobs=-1)]: Done  10 tasks      | elapsed:    4.7s\n"
     ]
    },
    {
     "name": "stdout",
     "output_type": "stream",
     "text": [
      "building tree 15 of 60\n",
      "building tree 16 of 60\n",
      "building tree 17 of 60\n",
      "building tree 18 of 60\n",
      "building tree 19 of 60\n",
      "building tree 20 of 60\n"
     ]
    },
    {
     "name": "stderr",
     "output_type": "stream",
     "text": [
      "[Parallel(n_jobs=-1)]: Done  17 tasks      | elapsed:    7.6s\n"
     ]
    },
    {
     "name": "stdout",
     "output_type": "stream",
     "text": [
      "building tree 21 of 60\n",
      "building tree 22 of 60\n",
      "building tree 23 of 60\n",
      "building tree 24 of 60\n",
      "building tree 25 of 60\n",
      "building tree 26 of 60\n",
      "building tree 27 of 60\n",
      "building tree 28 of 60\n"
     ]
    },
    {
     "name": "stderr",
     "output_type": "stream",
     "text": [
      "[Parallel(n_jobs=-1)]: Done  24 tasks      | elapsed:   10.3s\n"
     ]
    },
    {
     "name": "stdout",
     "output_type": "stream",
     "text": [
      "building tree 29 of 60\n",
      "building tree 30 of 60\n",
      "building tree 31 of 60\n",
      "building tree 32 of 60\n",
      "building tree 33 of 60\n",
      "building tree 34 of 60\n",
      "building tree 35 of 60\n",
      "building tree 36 of 60\n"
     ]
    },
    {
     "name": "stderr",
     "output_type": "stream",
     "text": [
      "[Parallel(n_jobs=-1)]: Done  33 tasks      | elapsed:   15.1s\n"
     ]
    },
    {
     "name": "stdout",
     "output_type": "stream",
     "text": [
      "building tree 37 of 60\n",
      "building tree 38 of 60\n",
      "building tree 39 of 60\n",
      "building tree 40 of 60\n",
      "building tree 41 of 60\n",
      "building tree 42 of 60\n",
      "building tree 43 of 60\n",
      "building tree 44 of 60\n",
      "building tree 45 of 60\n"
     ]
    },
    {
     "name": "stderr",
     "output_type": "stream",
     "text": [
      "[Parallel(n_jobs=-1)]: Done  42 tasks      | elapsed:   18.6s\n"
     ]
    },
    {
     "name": "stdout",
     "output_type": "stream",
     "text": [
      "building tree 46 of 60\n",
      "building tree 47 of 60\n",
      "building tree 48 of 60\n",
      "building tree 49 of 60\n",
      "building tree 50 of 60\n",
      "building tree 51 of 60\n",
      "building tree 52 of 60\n",
      "building tree 53 of 60\n",
      "building tree 54 of 60\n",
      "building tree 55 of 60\n",
      "building tree 56 of 60\n"
     ]
    },
    {
     "name": "stderr",
     "output_type": "stream",
     "text": [
      "[Parallel(n_jobs=-1)]: Done  53 tasks      | elapsed:   23.3s\n"
     ]
    },
    {
     "name": "stdout",
     "output_type": "stream",
     "text": [
      "building tree 57 of 60\n",
      "building tree 58 of 60\n",
      "building tree 59 of 60\n",
      "building tree 60 of 60\n"
     ]
    },
    {
     "name": "stderr",
     "output_type": "stream",
     "text": [
      "[Parallel(n_jobs=-1)]: Done  60 out of  60 | elapsed:   25.6s remaining:    0.0s\n",
      "[Parallel(n_jobs=-1)]: Done  60 out of  60 | elapsed:   25.6s finished\n",
      "[Parallel(n_jobs=-1)]: Using backend ThreadingBackend with 4 concurrent workers.\n"
     ]
    },
    {
     "name": "stdout",
     "output_type": "stream",
     "text": [
      "building tree 1 of 60\n",
      "building tree 2 of 60building tree 3 of 60\n",
      "building tree 4 of 60\n",
      "\n",
      "building tree 5 of 60\n",
      "building tree 6 of 60\n",
      "building tree 7 of 60\n",
      "building tree 8 of 60\n"
     ]
    },
    {
     "name": "stderr",
     "output_type": "stream",
     "text": [
      "[Parallel(n_jobs=-1)]: Done   5 tasks      | elapsed:    4.8s\n"
     ]
    },
    {
     "name": "stdout",
     "output_type": "stream",
     "text": [
      "building tree 9 of 60\n",
      "building tree 10 of 60\n",
      "building tree 11 of 60\n",
      "building tree 12 of 60\n",
      "building tree 13 of 60\n",
      "building tree 14 of 60\n",
      "building tree 15 of 60\n"
     ]
    },
    {
     "name": "stderr",
     "output_type": "stream",
     "text": [
      "[Parallel(n_jobs=-1)]: Done  10 tasks      | elapsed:    6.5s\n"
     ]
    },
    {
     "name": "stdout",
     "output_type": "stream",
     "text": [
      "building tree 16 of 60\n",
      "building tree 17 of 60\n",
      "building tree 18 of 60\n",
      "building tree 19 of 60\n",
      "building tree 20 of 60\n"
     ]
    },
    {
     "name": "stderr",
     "output_type": "stream",
     "text": [
      "[Parallel(n_jobs=-1)]: Done  17 tasks      | elapsed:   12.4s\n"
     ]
    },
    {
     "name": "stdout",
     "output_type": "stream",
     "text": [
      "building tree 21 of 60\n",
      "building tree 22 of 60\n",
      "building tree 23 of 60\n",
      "building tree 24 of 60\n",
      "building tree 25 of 60\n",
      "building tree 26 of 60\n",
      "building tree 27 of 60\n"
     ]
    },
    {
     "name": "stderr",
     "output_type": "stream",
     "text": [
      "[Parallel(n_jobs=-1)]: Done  24 tasks      | elapsed:   20.1s\n"
     ]
    },
    {
     "name": "stdout",
     "output_type": "stream",
     "text": [
      "building tree 28 of 60\n",
      "building tree 29 of 60\n",
      "building tree 30 of 60\n",
      "building tree 31 of 60\n",
      "building tree 32 of 60\n",
      "building tree 33 of 60\n",
      "building tree 34 of 60\n",
      "building tree 35 of 60\n",
      "building tree 36 of 60\n"
     ]
    },
    {
     "name": "stderr",
     "output_type": "stream",
     "text": [
      "[Parallel(n_jobs=-1)]: Done  33 tasks      | elapsed:   28.6s\n"
     ]
    },
    {
     "name": "stdout",
     "output_type": "stream",
     "text": [
      "building tree 37 of 60\n",
      "building tree 38 of 60\n",
      "building tree 39 of 60\n",
      "building tree 40 of 60\n",
      "building tree 41 of 60\n",
      "building tree 42 of 60\n",
      "building tree 43 of 60\n",
      "building tree 44 of 60\n",
      "building tree 45 of 60\n",
      "building tree 46 of 60\n"
     ]
    },
    {
     "name": "stderr",
     "output_type": "stream",
     "text": [
      "[Parallel(n_jobs=-1)]: Done  42 tasks      | elapsed:   34.5s\n"
     ]
    },
    {
     "name": "stdout",
     "output_type": "stream",
     "text": [
      "building tree 47 of 60\n",
      "building tree 48 of 60\n",
      "building tree 49 of 60\n",
      "building tree 50 of 60\n",
      "building tree 51 of 60\n",
      "building tree 52 of 60\n",
      "building tree 53 of 60\n",
      "building tree 54 of 60\n",
      "building tree 55 of 60\n",
      "building tree 56 of 60\n"
     ]
    },
    {
     "name": "stderr",
     "output_type": "stream",
     "text": [
      "[Parallel(n_jobs=-1)]: Done  53 tasks      | elapsed:   44.7s\n"
     ]
    },
    {
     "name": "stdout",
     "output_type": "stream",
     "text": [
      "building tree 57 of 60\n",
      "building tree 58 of 60\n",
      "building tree 59 of 60\n",
      "building tree 60 of 60\n"
     ]
    },
    {
     "name": "stderr",
     "output_type": "stream",
     "text": [
      "[Parallel(n_jobs=-1)]: Done  60 out of  60 | elapsed:   49.1s remaining:    0.0s\n",
      "[Parallel(n_jobs=-1)]: Done  60 out of  60 | elapsed:   49.1s finished\n",
      "[Parallel(n_jobs=-1)]: Using backend ThreadingBackend with 4 concurrent workers.\n"
     ]
    },
    {
     "name": "stdout",
     "output_type": "stream",
     "text": [
      "building tree 1 of 60building tree 2 of 60\n",
      "building tree 3 of 60\n",
      "building tree 4 of 60\n",
      "\n",
      "building tree 5 of 60\n",
      "building tree 6 of 60\n",
      "building tree 7 of 60\n",
      "building tree 8 of 60\n"
     ]
    },
    {
     "name": "stderr",
     "output_type": "stream",
     "text": [
      "[Parallel(n_jobs=-1)]: Done   5 tasks      | elapsed:    4.0s\n"
     ]
    },
    {
     "name": "stdout",
     "output_type": "stream",
     "text": [
      "building tree 9 of 60\n",
      "building tree 10 of 60\n",
      "building tree 11 of 60\n",
      "building tree 12 of 60\n",
      "building tree 13 of 60\n",
      "building tree 14 of 60\n"
     ]
    },
    {
     "name": "stderr",
     "output_type": "stream",
     "text": [
      "[Parallel(n_jobs=-1)]: Done  10 tasks      | elapsed:    6.3s\n"
     ]
    },
    {
     "name": "stdout",
     "output_type": "stream",
     "text": [
      "building tree 15 of 60\n",
      "building tree 16 of 60\n",
      "building tree 17 of 60\n",
      "building tree 18 of 60\n",
      "building tree 19 of 60\n",
      "building tree 20 of 60\n"
     ]
    },
    {
     "name": "stderr",
     "output_type": "stream",
     "text": [
      "[Parallel(n_jobs=-1)]: Done  17 tasks      | elapsed:   15.0s\n"
     ]
    },
    {
     "name": "stdout",
     "output_type": "stream",
     "text": [
      "building tree 21 of 60\n",
      "building tree 22 of 60\n",
      "building tree 23 of 60\n",
      "building tree 24 of 60\n",
      "building tree 25 of 60\n",
      "building tree 26 of 60\n",
      "building tree 27 of 60\n"
     ]
    },
    {
     "name": "stderr",
     "output_type": "stream",
     "text": [
      "[Parallel(n_jobs=-1)]: Done  24 tasks      | elapsed:   19.0s\n"
     ]
    },
    {
     "name": "stdout",
     "output_type": "stream",
     "text": [
      "building tree 28 of 60\n",
      "building tree 29 of 60\n",
      "building tree 30 of 60\n",
      "building tree 31 of 60\n",
      "building tree 32 of 60\n",
      "building tree 33 of 60\n",
      "building tree 34 of 60\n",
      "building tree 35 of 60\n",
      "building tree 36 of 60\n"
     ]
    },
    {
     "name": "stderr",
     "output_type": "stream",
     "text": [
      "[Parallel(n_jobs=-1)]: Done  33 tasks      | elapsed:   28.9s\n"
     ]
    },
    {
     "name": "stdout",
     "output_type": "stream",
     "text": [
      "building tree 37 of 60\n",
      "building tree 38 of 60\n",
      "building tree 39 of 60\n",
      "building tree 40 of 60\n",
      "building tree 41 of 60\n",
      "building tree 42 of 60\n",
      "building tree 43 of 60\n",
      "building tree 44 of 60\n",
      "building tree 45 of 60\n",
      "building tree 46 of 60\n"
     ]
    },
    {
     "name": "stderr",
     "output_type": "stream",
     "text": [
      "[Parallel(n_jobs=-1)]: Done  42 tasks      | elapsed:   38.3s\n"
     ]
    },
    {
     "name": "stdout",
     "output_type": "stream",
     "text": [
      "building tree 47 of 60\n",
      "building tree 48 of 60\n",
      "building tree 49 of 60\n",
      "building tree 50 of 60\n",
      "building tree 51 of 60\n",
      "building tree 52 of 60\n",
      "building tree 53 of 60\n",
      "building tree 54 of 60\n",
      "building tree 55 of 60\n",
      "building tree 56 of 60\n"
     ]
    },
    {
     "name": "stderr",
     "output_type": "stream",
     "text": [
      "[Parallel(n_jobs=-1)]: Done  53 tasks      | elapsed:   47.0s\n"
     ]
    },
    {
     "name": "stdout",
     "output_type": "stream",
     "text": [
      "building tree 57 of 60\n",
      "building tree 58 of 60\n",
      "building tree 59 of 60\n",
      "building tree 60 of 60\n"
     ]
    },
    {
     "name": "stderr",
     "output_type": "stream",
     "text": [
      "[Parallel(n_jobs=-1)]: Done  60 out of  60 | elapsed:   49.6s remaining:    0.0s\n",
      "[Parallel(n_jobs=-1)]: Done  60 out of  60 | elapsed:   49.6s finished\n",
      "[Parallel(n_jobs=-1)]: Using backend ThreadingBackend with 4 concurrent workers.\n"
     ]
    },
    {
     "name": "stdout",
     "output_type": "stream",
     "text": [
      "building tree 1 of 60\n",
      "building tree 2 of 60\n",
      "building tree 3 of 60building tree 4 of 60\n",
      "\n",
      "building tree 5 of 60\n",
      "building tree 6 of 60\n",
      "building tree 7 of 60\n",
      "building tree 8 of 60\n"
     ]
    },
    {
     "name": "stderr",
     "output_type": "stream",
     "text": [
      "[Parallel(n_jobs=-1)]: Done   5 tasks      | elapsed:    2.6s\n"
     ]
    },
    {
     "name": "stdout",
     "output_type": "stream",
     "text": [
      "building tree 9 of 60\n",
      "building tree 10 of 60\n",
      "building tree 11 of 60\n",
      "building tree 12 of 60\n",
      "building tree 13 of 60\n",
      "building tree 14 of 60\n",
      "building tree 15 of 60\n"
     ]
    },
    {
     "name": "stderr",
     "output_type": "stream",
     "text": [
      "[Parallel(n_jobs=-1)]: Done  10 tasks      | elapsed:    3.9s\n"
     ]
    },
    {
     "name": "stdout",
     "output_type": "stream",
     "text": [
      "building tree 16 of 60\n",
      "building tree 17 of 60\n",
      "building tree 18 of 60\n",
      "building tree 19 of 60\n",
      "building tree 20 of 60\n"
     ]
    },
    {
     "name": "stderr",
     "output_type": "stream",
     "text": [
      "[Parallel(n_jobs=-1)]: Done  17 tasks      | elapsed:    6.2s\n"
     ]
    },
    {
     "name": "stdout",
     "output_type": "stream",
     "text": [
      "building tree 21 of 60\n",
      "building tree 22 of 60\n",
      "building tree 23 of 60\n",
      "building tree 24 of 60\n",
      "building tree 25 of 60\n",
      "building tree 26 of 60\n",
      "building tree 27 of 60\n",
      "building tree 28 of 60\n"
     ]
    },
    {
     "name": "stderr",
     "output_type": "stream",
     "text": [
      "[Parallel(n_jobs=-1)]: Done  24 tasks      | elapsed:    7.6s\n"
     ]
    },
    {
     "name": "stdout",
     "output_type": "stream",
     "text": [
      "building tree 29 of 60\n",
      "building tree 30 of 60\n",
      "building tree 31 of 60\n",
      "building tree 32 of 60\n",
      "building tree 33 of 60\n",
      "building tree 34 of 60\n",
      "building tree 35 of 60\n",
      "building tree 36 of 60\n"
     ]
    },
    {
     "name": "stderr",
     "output_type": "stream",
     "text": [
      "[Parallel(n_jobs=-1)]: Done  33 tasks      | elapsed:   10.9s\n"
     ]
    },
    {
     "name": "stdout",
     "output_type": "stream",
     "text": [
      "building tree 37 of 60\n",
      "building tree 38 of 60\n",
      "building tree 39 of 60\n",
      "building tree 40 of 60\n",
      "building tree 41 of 60\n",
      "building tree 42 of 60\n",
      "building tree 43 of 60\n",
      "building tree 44 of 60\n",
      "building tree 45 of 60\n"
     ]
    },
    {
     "name": "stderr",
     "output_type": "stream",
     "text": [
      "[Parallel(n_jobs=-1)]: Done  42 tasks      | elapsed:   13.5s\n"
     ]
    },
    {
     "name": "stdout",
     "output_type": "stream",
     "text": [
      "building tree 46 of 60\n",
      "building tree 47 of 60\n",
      "building tree 48 of 60\n",
      "building tree 49 of 60\n",
      "building tree 50 of 60\n",
      "building tree 51 of 60\n",
      "building tree 52 of 60\n",
      "building tree 53 of 60\n",
      "building tree 54 of 60\n",
      "building tree 55 of 60\n",
      "building tree 56 of 60\n"
     ]
    },
    {
     "name": "stderr",
     "output_type": "stream",
     "text": [
      "[Parallel(n_jobs=-1)]: Done  53 tasks      | elapsed:   16.7s\n"
     ]
    },
    {
     "name": "stdout",
     "output_type": "stream",
     "text": [
      "building tree 57 of 60\n",
      "building tree 58 of 60\n",
      "building tree 59 of 60\n",
      "building tree 60 of 60\n"
     ]
    },
    {
     "name": "stderr",
     "output_type": "stream",
     "text": [
      "[Parallel(n_jobs=-1)]: Done  60 out of  60 | elapsed:   18.2s remaining:    0.0s\n",
      "[Parallel(n_jobs=-1)]: Done  60 out of  60 | elapsed:   18.2s finished\n",
      "[Parallel(n_jobs=-1)]: Using backend ThreadingBackend with 4 concurrent workers.\n"
     ]
    },
    {
     "name": "stdout",
     "output_type": "stream",
     "text": [
      "building tree 1 of 60building tree 2 of 60\n",
      "building tree 3 of 60\n",
      "\n",
      "building tree 4 of 60\n",
      "building tree 5 of 60\n",
      "building tree 6 of 60\n",
      "building tree 7 of 60\n",
      "building tree 8 of 60\n"
     ]
    },
    {
     "name": "stderr",
     "output_type": "stream",
     "text": [
      "[Parallel(n_jobs=-1)]: Done   5 tasks      | elapsed:    2.6s\n"
     ]
    },
    {
     "name": "stdout",
     "output_type": "stream",
     "text": [
      "building tree 9 of 60\n",
      "building tree 10 of 60\n",
      "building tree 11 of 60\n",
      "building tree 12 of 60\n",
      "building tree 13 of 60\n",
      "building tree 14 of 60\n",
      "building tree 15 of 60\n",
      "building tree 16 of 60\n"
     ]
    },
    {
     "name": "stderr",
     "output_type": "stream",
     "text": [
      "[Parallel(n_jobs=-1)]: Done  10 tasks      | elapsed:    3.9s\n"
     ]
    },
    {
     "name": "stdout",
     "output_type": "stream",
     "text": [
      "building tree 17 of 60\n",
      "building tree 18 of 60\n",
      "building tree 19 of 60\n",
      "building tree 20 of 60\n"
     ]
    },
    {
     "name": "stderr",
     "output_type": "stream",
     "text": [
      "[Parallel(n_jobs=-1)]: Done  17 tasks      | elapsed:    6.1s\n"
     ]
    },
    {
     "name": "stdout",
     "output_type": "stream",
     "text": [
      "building tree 21 of 60\n",
      "building tree 22 of 60\n",
      "building tree 23 of 60\n",
      "building tree 24 of 60\n",
      "building tree 25 of 60\n",
      "building tree 26 of 60\n",
      "building tree 27 of 60\n"
     ]
    },
    {
     "name": "stderr",
     "output_type": "stream",
     "text": [
      "[Parallel(n_jobs=-1)]: Done  24 tasks      | elapsed:    7.5s\n"
     ]
    },
    {
     "name": "stdout",
     "output_type": "stream",
     "text": [
      "building tree 28 of 60\n",
      "building tree 29 of 60\n",
      "building tree 30 of 60\n",
      "building tree 31 of 60\n",
      "building tree 32 of 60\n",
      "building tree 33 of 60\n",
      "building tree 34 of 60\n",
      "building tree 35 of 60\n",
      "building tree 36 of 60\n"
     ]
    },
    {
     "name": "stderr",
     "output_type": "stream",
     "text": [
      "[Parallel(n_jobs=-1)]: Done  33 tasks      | elapsed:   10.5s\n"
     ]
    },
    {
     "name": "stdout",
     "output_type": "stream",
     "text": [
      "building tree 37 of 60\n",
      "building tree 38 of 60\n",
      "building tree 39 of 60\n",
      "building tree 40 of 60\n",
      "building tree 41 of 60\n",
      "building tree 42 of 60\n",
      "building tree 43 of 60\n",
      "building tree 44 of 60\n",
      "building tree 45 of 60\n"
     ]
    },
    {
     "name": "stderr",
     "output_type": "stream",
     "text": [
      "[Parallel(n_jobs=-1)]: Done  42 tasks      | elapsed:   12.8s\n"
     ]
    },
    {
     "name": "stdout",
     "output_type": "stream",
     "text": [
      "building tree 46 of 60\n",
      "building tree 47 of 60\n",
      "building tree 48 of 60\n",
      "building tree 49 of 60\n",
      "building tree 50 of 60\n",
      "building tree 51 of 60\n",
      "building tree 52 of 60\n",
      "building tree 53 of 60\n",
      "building tree 54 of 60\n",
      "building tree 55 of 60\n",
      "building tree 56 of 60\n"
     ]
    },
    {
     "name": "stderr",
     "output_type": "stream",
     "text": [
      "[Parallel(n_jobs=-1)]: Done  53 tasks      | elapsed:   16.0s\n"
     ]
    },
    {
     "name": "stdout",
     "output_type": "stream",
     "text": [
      "building tree 57 of 60\n",
      "building tree 58 of 60\n",
      "building tree 59 of 60\n",
      "building tree 60 of 60\n"
     ]
    },
    {
     "name": "stderr",
     "output_type": "stream",
     "text": [
      "[Parallel(n_jobs=-1)]: Done  60 out of  60 | elapsed:   17.6s remaining:    0.0s\n",
      "[Parallel(n_jobs=-1)]: Done  60 out of  60 | elapsed:   17.6s finished\n",
      "[Parallel(n_jobs=-1)]: Using backend ThreadingBackend with 4 concurrent workers.\n"
     ]
    },
    {
     "name": "stdout",
     "output_type": "stream",
     "text": [
      "building tree 1 of 60\n",
      "building tree 2 of 60building tree 3 of 60\n",
      "building tree 4 of 60\n",
      "\n",
      "building tree 5 of 60\n",
      "building tree 6 of 60\n",
      "building tree 7 of 60\n",
      "building tree 8 of 60\n"
     ]
    },
    {
     "name": "stderr",
     "output_type": "stream",
     "text": [
      "[Parallel(n_jobs=-1)]: Done   5 tasks      | elapsed:    1.9s\n"
     ]
    },
    {
     "name": "stdout",
     "output_type": "stream",
     "text": [
      "building tree 9 of 60\n",
      "building tree 10 of 60\n",
      "building tree 11 of 60\n",
      "building tree 12 of 60\n",
      "building tree 13 of 60\n"
     ]
    },
    {
     "name": "stderr",
     "output_type": "stream",
     "text": [
      "[Parallel(n_jobs=-1)]: Done  10 tasks      | elapsed:    3.1s\n"
     ]
    },
    {
     "name": "stdout",
     "output_type": "stream",
     "text": [
      "building tree 14 of 60\n",
      "building tree 15 of 60\n",
      "building tree 16 of 60\n",
      "building tree 17 of 60\n",
      "building tree 18 of 60\n",
      "building tree 19 of 60\n",
      "building tree 20 of 60\n"
     ]
    },
    {
     "name": "stderr",
     "output_type": "stream",
     "text": [
      "[Parallel(n_jobs=-1)]: Done  17 tasks      | elapsed:    4.9s\n"
     ]
    },
    {
     "name": "stdout",
     "output_type": "stream",
     "text": [
      "building tree 21 of 60\n",
      "building tree 22 of 60\n",
      "building tree 23 of 60\n",
      "building tree 24 of 60\n",
      "building tree 25 of 60\n",
      "building tree 26 of 60\n",
      "building tree 27 of 60\n"
     ]
    },
    {
     "name": "stderr",
     "output_type": "stream",
     "text": [
      "[Parallel(n_jobs=-1)]: Done  24 tasks      | elapsed:    6.5s\n"
     ]
    },
    {
     "name": "stdout",
     "output_type": "stream",
     "text": [
      "building tree 28 of 60\n",
      "building tree 29 of 60\n",
      "building tree 30 of 60\n",
      "building tree 31 of 60\n",
      "building tree 32 of 60\n",
      "building tree 33 of 60\n",
      "building tree 34 of 60\n",
      "building tree 35 of 60\n",
      "building tree 36 of 60\n"
     ]
    },
    {
     "name": "stderr",
     "output_type": "stream",
     "text": [
      "[Parallel(n_jobs=-1)]: Done  33 tasks      | elapsed:    9.1s\n"
     ]
    },
    {
     "name": "stdout",
     "output_type": "stream",
     "text": [
      "building tree 37 of 60\n",
      "building tree 38 of 60\n",
      "building tree 39 of 60\n",
      "building tree 40 of 60\n",
      "building tree 41 of 60\n",
      "building tree 42 of 60\n",
      "building tree 43 of 60\n",
      "building tree 44 of 60\n",
      "building tree 45 of 60\n",
      "building tree 46 of 60\n"
     ]
    },
    {
     "name": "stderr",
     "output_type": "stream",
     "text": [
      "[Parallel(n_jobs=-1)]: Done  42 tasks      | elapsed:   11.3s\n"
     ]
    },
    {
     "name": "stdout",
     "output_type": "stream",
     "text": [
      "building tree 47 of 60\n",
      "building tree 48 of 60\n",
      "building tree 49 of 60\n",
      "building tree 50 of 60\n",
      "building tree 51 of 60\n",
      "building tree 52 of 60\n",
      "building tree 53 of 60\n",
      "building tree 54 of 60\n",
      "building tree 55 of 60\n",
      "building tree 56 of 60\n"
     ]
    },
    {
     "name": "stderr",
     "output_type": "stream",
     "text": [
      "[Parallel(n_jobs=-1)]: Done  53 tasks      | elapsed:   14.4s\n"
     ]
    },
    {
     "name": "stdout",
     "output_type": "stream",
     "text": [
      "building tree 57 of 60\n",
      "building tree 58 of 60\n",
      "building tree 59 of 60\n",
      "building tree 60 of 60\n"
     ]
    },
    {
     "name": "stderr",
     "output_type": "stream",
     "text": [
      "[Parallel(n_jobs=-1)]: Done  60 out of  60 | elapsed:   16.0s remaining:    0.0s\n",
      "[Parallel(n_jobs=-1)]: Done  60 out of  60 | elapsed:   16.0s finished\n",
      "[Parallel(n_jobs=-1)]: Using backend ThreadingBackend with 4 concurrent workers.\n"
     ]
    },
    {
     "name": "stdout",
     "output_type": "stream",
     "text": [
      "building tree 1 of 60\n",
      "building tree 2 of 60\n",
      "building tree 3 of 60building tree 4 of 60\n",
      "\n",
      "building tree 5 of 60\n",
      "building tree 6 of 60\n",
      "building tree 7 of 60\n",
      "building tree 8 of 60\n"
     ]
    },
    {
     "name": "stderr",
     "output_type": "stream",
     "text": [
      "[Parallel(n_jobs=-1)]: Done   5 tasks      | elapsed:    1.9s\n"
     ]
    },
    {
     "name": "stdout",
     "output_type": "stream",
     "text": [
      "building tree 9 of 60\n",
      "building tree 10 of 60\n",
      "building tree 11 of 60\n",
      "building tree 12 of 60\n",
      "building tree 13 of 60\n",
      "building tree 14 of 60\n",
      "building tree 15 of 60\n"
     ]
    },
    {
     "name": "stderr",
     "output_type": "stream",
     "text": [
      "[Parallel(n_jobs=-1)]: Done  10 tasks      | elapsed:    3.0s\n"
     ]
    },
    {
     "name": "stdout",
     "output_type": "stream",
     "text": [
      "building tree 16 of 60\n",
      "building tree 17 of 60\n",
      "building tree 18 of 60\n",
      "building tree 19 of 60\n",
      "building tree 20 of 60\n"
     ]
    },
    {
     "name": "stderr",
     "output_type": "stream",
     "text": [
      "[Parallel(n_jobs=-1)]: Done  17 tasks      | elapsed:    4.7s\n"
     ]
    },
    {
     "name": "stdout",
     "output_type": "stream",
     "text": [
      "building tree 21 of 60\n",
      "building tree 22 of 60\n",
      "building tree 23 of 60\n",
      "building tree 24 of 60\n",
      "building tree 25 of 60\n",
      "building tree 26 of 60\n",
      "building tree 27 of 60\n"
     ]
    },
    {
     "name": "stderr",
     "output_type": "stream",
     "text": [
      "[Parallel(n_jobs=-1)]: Done  24 tasks      | elapsed:    6.1s\n"
     ]
    },
    {
     "name": "stdout",
     "output_type": "stream",
     "text": [
      "building tree 28 of 60\n",
      "building tree 29 of 60\n",
      "building tree 30 of 60\n",
      "building tree 31 of 60\n",
      "building tree 32 of 60\n",
      "building tree 33 of 60\n",
      "building tree 34 of 60\n",
      "building tree 35 of 60\n",
      "building tree 36 of 60\n"
     ]
    },
    {
     "name": "stderr",
     "output_type": "stream",
     "text": [
      "[Parallel(n_jobs=-1)]: Done  33 tasks      | elapsed:    8.4s\n"
     ]
    },
    {
     "name": "stdout",
     "output_type": "stream",
     "text": [
      "building tree 37 of 60\n",
      "building tree 38 of 60\n",
      "building tree 39 of 60\n",
      "building tree 40 of 60\n",
      "building tree 41 of 60\n",
      "building tree 42 of 60\n",
      "building tree 43 of 60\n",
      "building tree 44 of 60\n",
      "building tree 45 of 60\n"
     ]
    },
    {
     "name": "stderr",
     "output_type": "stream",
     "text": [
      "[Parallel(n_jobs=-1)]: Done  42 tasks      | elapsed:   10.5s\n"
     ]
    },
    {
     "name": "stdout",
     "output_type": "stream",
     "text": [
      "building tree 46 of 60\n",
      "building tree 47 of 60\n",
      "building tree 48 of 60\n",
      "building tree 49 of 60\n",
      "building tree 50 of 60\n",
      "building tree 51 of 60\n",
      "building tree 52 of 60\n",
      "building tree 53 of 60\n",
      "building tree 54 of 60\n",
      "building tree 55 of 60\n",
      "building tree 56 of 60\n"
     ]
    },
    {
     "name": "stderr",
     "output_type": "stream",
     "text": [
      "[Parallel(n_jobs=-1)]: Done  53 tasks      | elapsed:   13.0s\n"
     ]
    },
    {
     "name": "stdout",
     "output_type": "stream",
     "text": [
      "building tree 57 of 60\n",
      "building tree 58 of 60\n",
      "building tree 59 of 60\n",
      "building tree 60 of 60\n"
     ]
    },
    {
     "name": "stderr",
     "output_type": "stream",
     "text": [
      "[Parallel(n_jobs=-1)]: Done  60 out of  60 | elapsed:   14.3s remaining:    0.0s\n",
      "[Parallel(n_jobs=-1)]: Done  60 out of  60 | elapsed:   14.3s finished\n"
     ]
    }
   ],
   "source": [
    "estimator = RandomForestClassifier(n_estimators=60, max_depth=2 ** 3, random_state=0, n_jobs=-1, verbose = 10)\n",
    "selector = RFE(estimator, 5, step=1)\n",
    "selector = selector.fit(technical_features.fillna(0), y_train['RET'])"
   ]
  },
  {
   "cell_type": "markdown",
   "metadata": {},
   "source": [
    "# Modèle"
   ]
  },
  {
   "cell_type": "code",
   "execution_count": 128,
   "metadata": {},
   "outputs": [],
   "source": [
    "from sklearn.model_selection import KFold\n",
    "from sklearn.metrics import accuracy_score"
   ]
  },
  {
   "cell_type": "code",
   "execution_count": 129,
   "metadata": {},
   "outputs": [
    {
     "data": {
      "text/plain": [
       "array([15,  7, 12,  8,  2,  6, 17, 18, 16,  4,  3,  1,  1, 10, 14,  9, 13,\n",
       "        1,  1,  1,  5, 11])"
      ]
     },
     "execution_count": 129,
     "metadata": {},
     "output_type": "execute_result"
    }
   ],
   "source": [
    "selector.ranking_"
   ]
  },
  {
   "cell_type": "markdown",
   "metadata": {},
   "source": [
    "Il s'agit ici de régler les hyperparamètres pour avoir la meilleure classification. On essaye plusieurs méthodes, mais celle qui semble le plus efficace d'un point de vue computationnel et classification est la forêt aléatoire."
   ]
  },
  {
   "cell_type": "code",
   "execution_count": 132,
   "metadata": {},
   "outputs": [],
   "source": [
    "from sklearn.svm import SVC\n",
    "from xgboost import XGBClassifier\n",
    "from sklearn.model_selection import KFold\n",
    "from sklearn.model_selection import GridSearchCV\n",
    "from sklearn.metrics import mean_squared_error, make_scorer, log_loss\n",
    "from sklearn.preprocessing import StandardScaler\n",
    "from sklearn.metrics import accuracy_score"
   ]
  },
  {
   "cell_type": "code",
   "execution_count": 88,
   "metadata": {},
   "outputs": [
    {
     "name": "stdout",
     "output_type": "stream",
     "text": [
      "Fold 1 - Accuracy: 52.30%\n",
      "Fold 2 - Accuracy: 49.33%\n",
      "Fold 3 - Accuracy: 50.14%\n",
      "Fold 4 - Accuracy: 50.56%\n",
      "Accuracy: 50.58% [49.49 ; 51.67] (+- 1.09)\n"
     ]
    }
   ],
   "source": [
    "X_train = technical_features\n",
    "Y_train = y_train['RET']\n",
    "\n",
    "## only select not na\n",
    "X_train = technical_features.dropna()\n",
    "idx = X_train.index\n",
    "Y_train = y_train.loc[idx]['RET']\n",
    "X_test = technical_features1.dropna()\n",
    "\n",
    "# A quiet large number of trees with low depth to prevent overfits\n",
    "rf_params = {\n",
    "     'n_estimators':70,\n",
    "     'max_depth': 8,\n",
    "     'random_state': 0,\n",
    "     'n_jobs': -1,\n",
    "     'max_features':18 \n",
    "}\n",
    "\n",
    "xg_params = {\n",
    "    'n_estimators' : 160,\n",
    "    'learning_rate' : 0.01,\n",
    "    'max_depth' : 8,\n",
    "    'n_jobs' : -1,\n",
    "    'random_state' : 0,\n",
    "    \n",
    "}\n",
    "\n",
    "svm_params = {\n",
    "    'C' : 0.75,\n",
    "    'gamma' : 0.015,\n",
    "    'kernel' : 'rbf',\n",
    "    'probability' : True,\n",
    "    'decision_function_shape' : 'ovo',\n",
    "    'verbose' : 10\n",
    "    \n",
    "}\n",
    "\n",
    "train_dates = x_train['DATE'].unique()\n",
    "test_dates = x_test['DATE'].unique()\n",
    "\n",
    "n_splits = 4\n",
    "scores = []\n",
    "models = []\n",
    "\n",
    "splits = KFold(n_splits=n_splits, random_state=0,\n",
    "               shuffle=True).split(train_dates)\n",
    "\n",
    "for i, (local_train_dates_ids, local_test_dates_ids) in enumerate(splits):\n",
    "    local_train_dates = train_dates[local_train_dates_ids]\n",
    "    local_test_dates = train_dates[local_test_dates_ids]\n",
    "\n",
    "    local_train_ids = x_train['DATE'].isin(local_train_dates)\n",
    "    local_test_ids = x_train['DATE'].isin(local_test_dates)\n",
    "\n",
    "    X_local_train = X_train.loc[local_train_ids]\n",
    "    y_local_train = Y_train.loc[local_train_ids]\n",
    "    X_local_test = X_train.loc[local_test_ids]\n",
    "    y_local_test = Y_train.loc[local_test_ids]\n",
    "\n",
    "    X_local_train = X_local_train.fillna(0)\n",
    "    X_local_test = X_local_test.fillna(0)\n",
    "\n",
    "    model = RandomForestClassifier(**rf_params)\n",
    "    model.fit(X_local_train, y_local_train)\n",
    "\n",
    "    y_local_pred = model.predict_proba(X_local_test)[:, 1]\n",
    "    \n",
    "    sub = X_train.loc[local_test_ids].copy()\n",
    "    sub['DATE'] = x_train.loc[sub.index]['DATE']\n",
    "    sub['pred'] = y_local_pred\n",
    "    y_local_pred = sub.groupby('DATE')['pred'].transform(lambda x: x > x.mean()).values\n",
    "\n",
    "    models.append(model)\n",
    "    score = accuracy_score(y_local_test, y_local_pred)\n",
    "    scores.append(score)\n",
    "    print(f\"Fold {i+1} - Accuracy: {score* 100:.2f}%\")\n",
    "\n",
    "mean = np.mean(scores) * 100\n",
    "std = np.std(scores) * 100\n",
    "u = (mean + std)\n",
    "l = (mean - std)\n",
    "print(f'Accuracy: {mean:.2f}% [{l:.2f} ; {u:.2f}] (+- {std:.2f})')"
   ]
  },
  {
   "cell_type": "code",
   "execution_count": 133,
   "metadata": {},
   "outputs": [],
   "source": [
    "train_dates = x_train['DATE'].unique()\n",
    "test_dates = x_test['DATE'].unique()"
   ]
  },
  {
   "cell_type": "code",
   "execution_count": 134,
   "metadata": {},
   "outputs": [],
   "source": [
    "train = x_train['DATE'].isin(train_dates)\n",
    "test = x_test['DATE'].isin(test_dates)"
   ]
  },
  {
   "cell_type": "code",
   "execution_count": 135,
   "metadata": {},
   "outputs": [],
   "source": [
    "idx = technical_features.dropna().index"
   ]
  },
  {
   "cell_type": "code",
   "execution_count": null,
   "metadata": {},
   "outputs": [],
   "source": [
    "print(technical_features.columns, technical_features1.columns)\n"
   ]
  },
  {
   "cell_type": "code",
   "execution_count": 136,
   "metadata": {},
   "outputs": [],
   "source": [
    "model = RandomForestClassifier(**rf_params)\n",
    "model.fit(technical_features.fillna(0), y_train['RET'])\n",
    "ypred1 = model.predict_proba(technical_features1.fillna(0))[:, 1]"
   ]
  },
  {
   "cell_type": "code",
   "execution_count": 139,
   "metadata": {},
   "outputs": [
    {
     "ename": "KeyError",
     "evalue": "'Passing list-likes to .loc or [] with any missing labels is no longer supported, see https://pandas.pydata.org/pandas-docs/stable/user_guide/indexing.html#deprecate-loc-reindex-listlike'",
     "output_type": "error",
     "traceback": [
      "\u001b[0;31m---------------------------------------------------------------------------\u001b[0m",
      "\u001b[0;31mKeyError\u001b[0m                                  Traceback (most recent call last)",
      "\u001b[0;32m<ipython-input-139-373599227361>\u001b[0m in \u001b[0;36m<module>\u001b[0;34m\u001b[0m\n\u001b[1;32m      1\u001b[0m \u001b[0msub\u001b[0m \u001b[0;34m=\u001b[0m \u001b[0mtechnical_features1\u001b[0m\u001b[0;34m.\u001b[0m\u001b[0mfillna\u001b[0m\u001b[0;34m(\u001b[0m\u001b[0;36m0\u001b[0m\u001b[0;34m)\u001b[0m\u001b[0;34m.\u001b[0m\u001b[0mcopy\u001b[0m\u001b[0;34m(\u001b[0m\u001b[0;34m)\u001b[0m\u001b[0;34m\u001b[0m\u001b[0;34m\u001b[0m\u001b[0m\n\u001b[0;32m----> 2\u001b[0;31m \u001b[0msub\u001b[0m\u001b[0;34m[\u001b[0m\u001b[0;34m'DATE'\u001b[0m\u001b[0;34m]\u001b[0m \u001b[0;34m=\u001b[0m \u001b[0mx_test\u001b[0m\u001b[0;34m.\u001b[0m\u001b[0mloc\u001b[0m\u001b[0;34m[\u001b[0m\u001b[0msub\u001b[0m\u001b[0;34m.\u001b[0m\u001b[0mindex\u001b[0m\u001b[0;34m]\u001b[0m\u001b[0;34m[\u001b[0m\u001b[0;34m'DATE'\u001b[0m\u001b[0;34m]\u001b[0m\u001b[0;34m\u001b[0m\u001b[0;34m\u001b[0m\u001b[0m\n\u001b[0m\u001b[1;32m      3\u001b[0m \u001b[0msub\u001b[0m\u001b[0;34m[\u001b[0m\u001b[0;34m'pred'\u001b[0m\u001b[0;34m]\u001b[0m \u001b[0;34m=\u001b[0m \u001b[0mypred1\u001b[0m\u001b[0;34m\u001b[0m\u001b[0;34m\u001b[0m\u001b[0m\n\u001b[1;32m      4\u001b[0m \u001b[0mypred1\u001b[0m \u001b[0;34m=\u001b[0m \u001b[0msub\u001b[0m\u001b[0;34m.\u001b[0m\u001b[0mgroupby\u001b[0m\u001b[0;34m(\u001b[0m\u001b[0;34m'DATE'\u001b[0m\u001b[0;34m)\u001b[0m\u001b[0;34m[\u001b[0m\u001b[0;34m'pred'\u001b[0m\u001b[0;34m]\u001b[0m\u001b[0;34m.\u001b[0m\u001b[0mtransform\u001b[0m\u001b[0;34m(\u001b[0m\u001b[0;32mlambda\u001b[0m \u001b[0mx\u001b[0m\u001b[0;34m:\u001b[0m \u001b[0mx\u001b[0m \u001b[0;34m>\u001b[0m \u001b[0mx\u001b[0m\u001b[0;34m.\u001b[0m\u001b[0mmean\u001b[0m\u001b[0;34m(\u001b[0m\u001b[0;34m)\u001b[0m\u001b[0;34m)\u001b[0m\u001b[0;34m.\u001b[0m\u001b[0mvalues\u001b[0m\u001b[0;34m\u001b[0m\u001b[0;34m\u001b[0m\u001b[0m\n",
      "\u001b[0;32m~/opt/anaconda3/lib/python3.8/site-packages/pandas/core/indexing.py\u001b[0m in \u001b[0;36m__getitem__\u001b[0;34m(self, key)\u001b[0m\n\u001b[1;32m   1766\u001b[0m \u001b[0;34m\u001b[0m\u001b[0m\n\u001b[1;32m   1767\u001b[0m             \u001b[0mmaybe_callable\u001b[0m \u001b[0;34m=\u001b[0m \u001b[0mcom\u001b[0m\u001b[0;34m.\u001b[0m\u001b[0mapply_if_callable\u001b[0m\u001b[0;34m(\u001b[0m\u001b[0mkey\u001b[0m\u001b[0;34m,\u001b[0m \u001b[0mself\u001b[0m\u001b[0;34m.\u001b[0m\u001b[0mobj\u001b[0m\u001b[0;34m)\u001b[0m\u001b[0;34m\u001b[0m\u001b[0;34m\u001b[0m\u001b[0m\n\u001b[0;32m-> 1768\u001b[0;31m             \u001b[0;32mreturn\u001b[0m \u001b[0mself\u001b[0m\u001b[0;34m.\u001b[0m\u001b[0m_getitem_axis\u001b[0m\u001b[0;34m(\u001b[0m\u001b[0mmaybe_callable\u001b[0m\u001b[0;34m,\u001b[0m \u001b[0maxis\u001b[0m\u001b[0;34m=\u001b[0m\u001b[0maxis\u001b[0m\u001b[0;34m)\u001b[0m\u001b[0;34m\u001b[0m\u001b[0;34m\u001b[0m\u001b[0m\n\u001b[0m\u001b[1;32m   1769\u001b[0m \u001b[0;34m\u001b[0m\u001b[0m\n\u001b[1;32m   1770\u001b[0m     \u001b[0;32mdef\u001b[0m \u001b[0m_is_scalar_access\u001b[0m\u001b[0;34m(\u001b[0m\u001b[0mself\u001b[0m\u001b[0;34m,\u001b[0m \u001b[0mkey\u001b[0m\u001b[0;34m:\u001b[0m \u001b[0mTuple\u001b[0m\u001b[0;34m)\u001b[0m\u001b[0;34m:\u001b[0m\u001b[0;34m\u001b[0m\u001b[0;34m\u001b[0m\u001b[0m\n",
      "\u001b[0;32m~/opt/anaconda3/lib/python3.8/site-packages/pandas/core/indexing.py\u001b[0m in \u001b[0;36m_getitem_axis\u001b[0;34m(self, key, axis)\u001b[0m\n\u001b[1;32m   1952\u001b[0m                     \u001b[0;32mraise\u001b[0m \u001b[0mValueError\u001b[0m\u001b[0;34m(\u001b[0m\u001b[0;34m\"Cannot index with multidimensional key\"\u001b[0m\u001b[0;34m)\u001b[0m\u001b[0;34m\u001b[0m\u001b[0;34m\u001b[0m\u001b[0m\n\u001b[1;32m   1953\u001b[0m \u001b[0;34m\u001b[0m\u001b[0m\n\u001b[0;32m-> 1954\u001b[0;31m                 \u001b[0;32mreturn\u001b[0m \u001b[0mself\u001b[0m\u001b[0;34m.\u001b[0m\u001b[0m_getitem_iterable\u001b[0m\u001b[0;34m(\u001b[0m\u001b[0mkey\u001b[0m\u001b[0;34m,\u001b[0m \u001b[0maxis\u001b[0m\u001b[0;34m=\u001b[0m\u001b[0maxis\u001b[0m\u001b[0;34m)\u001b[0m\u001b[0;34m\u001b[0m\u001b[0;34m\u001b[0m\u001b[0m\n\u001b[0m\u001b[1;32m   1955\u001b[0m \u001b[0;34m\u001b[0m\u001b[0m\n\u001b[1;32m   1956\u001b[0m             \u001b[0;31m# nested tuple slicing\u001b[0m\u001b[0;34m\u001b[0m\u001b[0;34m\u001b[0m\u001b[0;34m\u001b[0m\u001b[0m\n",
      "\u001b[0;32m~/opt/anaconda3/lib/python3.8/site-packages/pandas/core/indexing.py\u001b[0m in \u001b[0;36m_getitem_iterable\u001b[0;34m(self, key, axis)\u001b[0m\n\u001b[1;32m   1593\u001b[0m         \u001b[0;32melse\u001b[0m\u001b[0;34m:\u001b[0m\u001b[0;34m\u001b[0m\u001b[0;34m\u001b[0m\u001b[0m\n\u001b[1;32m   1594\u001b[0m             \u001b[0;31m# A collection of keys\u001b[0m\u001b[0;34m\u001b[0m\u001b[0;34m\u001b[0m\u001b[0;34m\u001b[0m\u001b[0m\n\u001b[0;32m-> 1595\u001b[0;31m             \u001b[0mkeyarr\u001b[0m\u001b[0;34m,\u001b[0m \u001b[0mindexer\u001b[0m \u001b[0;34m=\u001b[0m \u001b[0mself\u001b[0m\u001b[0;34m.\u001b[0m\u001b[0m_get_listlike_indexer\u001b[0m\u001b[0;34m(\u001b[0m\u001b[0mkey\u001b[0m\u001b[0;34m,\u001b[0m \u001b[0maxis\u001b[0m\u001b[0;34m,\u001b[0m \u001b[0mraise_missing\u001b[0m\u001b[0;34m=\u001b[0m\u001b[0;32mFalse\u001b[0m\u001b[0;34m)\u001b[0m\u001b[0;34m\u001b[0m\u001b[0;34m\u001b[0m\u001b[0m\n\u001b[0m\u001b[1;32m   1596\u001b[0m             return self.obj._reindex_with_indexers(\n\u001b[1;32m   1597\u001b[0m                 \u001b[0;34m{\u001b[0m\u001b[0maxis\u001b[0m\u001b[0;34m:\u001b[0m \u001b[0;34m[\u001b[0m\u001b[0mkeyarr\u001b[0m\u001b[0;34m,\u001b[0m \u001b[0mindexer\u001b[0m\u001b[0;34m]\u001b[0m\u001b[0;34m}\u001b[0m\u001b[0;34m,\u001b[0m \u001b[0mcopy\u001b[0m\u001b[0;34m=\u001b[0m\u001b[0;32mTrue\u001b[0m\u001b[0;34m,\u001b[0m \u001b[0mallow_dups\u001b[0m\u001b[0;34m=\u001b[0m\u001b[0;32mTrue\u001b[0m\u001b[0;34m\u001b[0m\u001b[0;34m\u001b[0m\u001b[0m\n",
      "\u001b[0;32m~/opt/anaconda3/lib/python3.8/site-packages/pandas/core/indexing.py\u001b[0m in \u001b[0;36m_get_listlike_indexer\u001b[0;34m(self, key, axis, raise_missing)\u001b[0m\n\u001b[1;32m   1550\u001b[0m             \u001b[0mkeyarr\u001b[0m\u001b[0;34m,\u001b[0m \u001b[0mindexer\u001b[0m\u001b[0;34m,\u001b[0m \u001b[0mnew_indexer\u001b[0m \u001b[0;34m=\u001b[0m \u001b[0max\u001b[0m\u001b[0;34m.\u001b[0m\u001b[0m_reindex_non_unique\u001b[0m\u001b[0;34m(\u001b[0m\u001b[0mkeyarr\u001b[0m\u001b[0;34m)\u001b[0m\u001b[0;34m\u001b[0m\u001b[0;34m\u001b[0m\u001b[0m\n\u001b[1;32m   1551\u001b[0m \u001b[0;34m\u001b[0m\u001b[0m\n\u001b[0;32m-> 1552\u001b[0;31m         self._validate_read_indexer(\n\u001b[0m\u001b[1;32m   1553\u001b[0m             \u001b[0mkeyarr\u001b[0m\u001b[0;34m,\u001b[0m \u001b[0mindexer\u001b[0m\u001b[0;34m,\u001b[0m \u001b[0mo\u001b[0m\u001b[0;34m.\u001b[0m\u001b[0m_get_axis_number\u001b[0m\u001b[0;34m(\u001b[0m\u001b[0maxis\u001b[0m\u001b[0;34m)\u001b[0m\u001b[0;34m,\u001b[0m \u001b[0mraise_missing\u001b[0m\u001b[0;34m=\u001b[0m\u001b[0mraise_missing\u001b[0m\u001b[0;34m\u001b[0m\u001b[0;34m\u001b[0m\u001b[0m\n\u001b[1;32m   1554\u001b[0m         )\n",
      "\u001b[0;32m~/opt/anaconda3/lib/python3.8/site-packages/pandas/core/indexing.py\u001b[0m in \u001b[0;36m_validate_read_indexer\u001b[0;34m(self, key, indexer, axis, raise_missing)\u001b[0m\n\u001b[1;32m   1652\u001b[0m             \u001b[0;31m# just raising\u001b[0m\u001b[0;34m\u001b[0m\u001b[0;34m\u001b[0m\u001b[0;34m\u001b[0m\u001b[0m\n\u001b[1;32m   1653\u001b[0m             \u001b[0;32mif\u001b[0m \u001b[0;32mnot\u001b[0m \u001b[0;34m(\u001b[0m\u001b[0max\u001b[0m\u001b[0;34m.\u001b[0m\u001b[0mis_categorical\u001b[0m\u001b[0;34m(\u001b[0m\u001b[0;34m)\u001b[0m \u001b[0;32mor\u001b[0m \u001b[0max\u001b[0m\u001b[0;34m.\u001b[0m\u001b[0mis_interval\u001b[0m\u001b[0;34m(\u001b[0m\u001b[0;34m)\u001b[0m\u001b[0;34m)\u001b[0m\u001b[0;34m:\u001b[0m\u001b[0;34m\u001b[0m\u001b[0;34m\u001b[0m\u001b[0m\n\u001b[0;32m-> 1654\u001b[0;31m                 raise KeyError(\n\u001b[0m\u001b[1;32m   1655\u001b[0m                     \u001b[0;34m\"Passing list-likes to .loc or [] with any missing labels \"\u001b[0m\u001b[0;34m\u001b[0m\u001b[0;34m\u001b[0m\u001b[0m\n\u001b[1;32m   1656\u001b[0m                     \u001b[0;34m\"is no longer supported, see \"\u001b[0m\u001b[0;34m\u001b[0m\u001b[0;34m\u001b[0m\u001b[0m\n",
      "\u001b[0;31mKeyError\u001b[0m: 'Passing list-likes to .loc or [] with any missing labels is no longer supported, see https://pandas.pydata.org/pandas-docs/stable/user_guide/indexing.html#deprecate-loc-reindex-listlike'"
     ]
    }
   ],
   "source": [
    "sub = technical_features1.fillna(0).copy()\n",
    "sub['DATE'] = x_test.loc[sub.index]['DATE']\n",
    "sub['pred'] = ypred1\n",
    "ypred1 = sub.groupby('DATE')['pred'].transform(lambda x: x > x.mean()).values"
   ]
  },
  {
   "cell_type": "code",
   "execution_count": null,
   "metadata": {},
   "outputs": [],
   "source": [
    "feature_importances = pd.DataFrame([model.feature_importances_ for model in models],\n",
    "                                   columns=technical_features.columns)\n",
    "\n",
    "sns.barplot(data=feature_importances, orient='h',\n",
    "            order=feature_importances.mean().sort_values(ascending=False).index)\n",
    "plt.show()"
   ]
  },
  {
   "cell_type": "code",
   "execution_count": null,
   "metadata": {},
   "outputs": [],
   "source": []
  }
 ],
 "metadata": {
  "kernelspec": {
   "display_name": "Python 3",
   "language": "python",
   "name": "python3"
  },
  "language_info": {
   "codemirror_mode": {
    "name": "ipython",
    "version": 3
   },
   "file_extension": ".py",
   "mimetype": "text/x-python",
   "name": "python",
   "nbconvert_exporter": "python",
   "pygments_lexer": "ipython3",
   "version": "3.8.3"
  }
 },
 "nbformat": 4,
 "nbformat_minor": 4
}
